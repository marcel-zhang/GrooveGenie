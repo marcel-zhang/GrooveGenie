{
 "cells": [
  {
   "cell_type": "code",
   "execution_count": 3,
   "id": "18e288b2",
   "metadata": {},
   "outputs": [
    {
     "name": "stdout",
     "output_type": "stream",
     "text": [
      "Requirement already satisfied: fuzzywuzzy in /Users/marcelzhang/opt/anaconda3/lib/python3.9/site-packages (0.18.0)\n",
      "Note: you may need to restart the kernel to use updated packages.\n"
     ]
    },
    {
     "name": "stderr",
     "output_type": "stream",
     "text": [
      "/Users/marcelzhang/opt/anaconda3/lib/python3.9/site-packages/fuzzywuzzy/fuzz.py:11: UserWarning: Using slow pure-python SequenceMatcher. Install python-Levenshtein to remove this warning\n",
      "  warnings.warn('Using slow pure-python SequenceMatcher. Install python-Levenshtein to remove this warning')\n"
     ]
    }
   ],
   "source": [
    "# 1. import libraries\n",
    "import requests # to download html code\n",
    "from bs4 import BeautifulSoup # to navigate through the html code\n",
    "import pandas as pd\n",
    "import numpy as np\n",
    "import re\n",
    "import random\n",
    "#%pip install fuzzywuzzy\n",
    "from fuzzywuzzy import fuzz"
   ]
  },
  {
   "cell_type": "code",
   "execution_count": 4,
   "id": "740c2771",
   "metadata": {},
   "outputs": [
    {
     "data": {
      "text/html": [
       "<div>\n",
       "<style scoped>\n",
       "    .dataframe tbody tr th:only-of-type {\n",
       "        vertical-align: middle;\n",
       "    }\n",
       "\n",
       "    .dataframe tbody tr th {\n",
       "        vertical-align: top;\n",
       "    }\n",
       "\n",
       "    .dataframe thead th {\n",
       "        text-align: right;\n",
       "    }\n",
       "</style>\n",
       "<table border=\"1\" class=\"dataframe\">\n",
       "  <thead>\n",
       "    <tr style=\"text-align: right;\">\n",
       "      <th></th>\n",
       "      <th>song</th>\n",
       "      <th>artist</th>\n",
       "    </tr>\n",
       "  </thead>\n",
       "  <tbody>\n",
       "    <tr>\n",
       "      <th>0</th>\n",
       "      <td>Flowers</td>\n",
       "      <td>Miley Cyrus</td>\n",
       "    </tr>\n",
       "    <tr>\n",
       "      <th>1</th>\n",
       "      <td>Kill Bill</td>\n",
       "      <td>SZA</td>\n",
       "    </tr>\n",
       "    <tr>\n",
       "      <th>2</th>\n",
       "      <td>Last Night</td>\n",
       "      <td>Morgan Wallen</td>\n",
       "    </tr>\n",
       "    <tr>\n",
       "      <th>3</th>\n",
       "      <td>Unholy</td>\n",
       "      <td>Sam Smith &amp; Kim Petras</td>\n",
       "    </tr>\n",
       "    <tr>\n",
       "      <th>4</th>\n",
       "      <td>Creepin'</td>\n",
       "      <td>Metro Boomin, The Weeknd &amp; 21 Savage</td>\n",
       "    </tr>\n",
       "    <tr>\n",
       "      <th>...</th>\n",
       "      <td>...</td>\n",
       "      <td>...</td>\n",
       "    </tr>\n",
       "    <tr>\n",
       "      <th>95</th>\n",
       "      <td>Yandel 150</td>\n",
       "      <td>Yandel &amp; Feid</td>\n",
       "    </tr>\n",
       "    <tr>\n",
       "      <th>96</th>\n",
       "      <td>Heart To Heart</td>\n",
       "      <td>Mac DeMarco</td>\n",
       "    </tr>\n",
       "    <tr>\n",
       "      <th>97</th>\n",
       "      <td>Next Thing You Know</td>\n",
       "      <td>Jordan Davis</td>\n",
       "    </tr>\n",
       "    <tr>\n",
       "      <th>98</th>\n",
       "      <td>Never Gonna Not Dance Again</td>\n",
       "      <td>P!nk</td>\n",
       "    </tr>\n",
       "    <tr>\n",
       "      <th>99</th>\n",
       "      <td>Open Arms</td>\n",
       "      <td>SZA Featuring Travis Scott</td>\n",
       "    </tr>\n",
       "  </tbody>\n",
       "</table>\n",
       "<p>100 rows × 2 columns</p>\n",
       "</div>"
      ],
      "text/plain": [
       "                           song                                artist\n",
       "0                       Flowers                           Miley Cyrus\n",
       "1                     Kill Bill                                   SZA\n",
       "2                    Last Night                         Morgan Wallen\n",
       "3                        Unholy                Sam Smith & Kim Petras\n",
       "4                      Creepin'  Metro Boomin, The Weeknd & 21 Savage\n",
       "..                          ...                                   ...\n",
       "95                   Yandel 150                         Yandel & Feid\n",
       "96               Heart To Heart                           Mac DeMarco\n",
       "97          Next Thing You Know                          Jordan Davis\n",
       "98  Never Gonna Not Dance Again                                  P!nk\n",
       "99                    Open Arms            SZA Featuring Travis Scott\n",
       "\n",
       "[100 rows x 2 columns]"
      ]
     },
     "execution_count": 4,
     "metadata": {},
     "output_type": "execute_result"
    }
   ],
   "source": [
    "# Load the hot song list\n",
    "hot = pd.read_csv('data/billboards_100.csv')\n",
    "hot"
   ]
  },
  {
   "cell_type": "code",
   "execution_count": 5,
   "id": "34e1d09e",
   "metadata": {},
   "outputs": [],
   "source": [
    "# Check artist\n",
    "\n",
    "# def GrooveGenie():\n",
    "#     while True:\n",
    "#         input_song = input('Please enter a hot song: ')\n",
    "#         if input_song.lower() in [s.lower() for s in hot.song]:\n",
    "#             check_singer = hot.loc[hot.song.str.lower() == input_song.lower(), 'artist'][0]\n",
    "#             comfirm = input(f'Do you mean \"{input_song}\" performed by \"{check_singer}\"? (Y/N) ')\n",
    "#             if comfirm.lower() == 'y':\n",
    "#                 print(f'Got it! Playing {input_song}!')\n",
    "#                 break\n",
    "#             else:\n",
    "#                 rec_hot = random.sample(hot.song.tolist(), k=5)\n",
    "#                 print(f'Sorry, this is not a hot song. Would you like to try one of these hot songs? {rec_hot}')\n",
    "#         else:\n",
    "#             rec_hot = random.sample(hot.song.tolist(), k=5)\n",
    "#             print(f'Sorry, this is not a hot song. Would you like to try one of these hot songs? {rec_hot}')"
   ]
  },
  {
   "cell_type": "code",
   "execution_count": 7,
   "id": "02a20677",
   "metadata": {},
   "outputs": [
    {
     "name": "stdout",
     "output_type": "stream",
     "text": [
      "Please enter a hot song: flowers\n",
      "Do you mean \"flowers\" performed by \"Miley Cyrus\"? (Y/N) n\n",
      "Sorry, this is not a hot song. Would you like to try one of these hot songs? [\"That's What Tequila Does\", 'Nonsense', 'Ditto', 'Bloody Mary', 'Forget Me']\n",
      "Please enter a hot song: flower\n",
      "Sorry, this is not a hot song. Would you like to try one of these hot songs? ['10:35', 'You Proof', 'Bebe Dame', 'Fin de Semana', 'No Se Va']\n",
      "Please enter a hot song: flowers\n",
      "Do you mean \"flowers\" performed by \"Miley Cyrus\"? (Y/N) y\n",
      "Got it! Playing flowers!\n"
     ]
    }
   ],
   "source": [
    "GrooveGenie()"
   ]
  },
  {
   "cell_type": "code",
   "execution_count": 10,
   "id": "3136db35",
   "metadata": {},
   "outputs": [],
   "source": [
    "# Error tolerance\n",
    "\n",
    "def GrooveGenie():\n",
    "    while True:\n",
    "        input_song = input('Please enter a hot song: ')\n",
    "        match_ratios = [fuzz.token_set_ratio(input_song.lower(), s.lower()) for s in hot.song] # Generate a list of matching scores\n",
    "        max_ratio = max(match_ratios) # Get the highest matching score\n",
    "        if max_ratio >= 70:\n",
    "            input_song = hot.song[match_ratios.index(max_ratio)] # Correct the input by the song which matches the input best\n",
    "            check_singer = hot.loc[hot.song.str.lower() == input_song.lower(), 'artist'][0]\n",
    "            comfirm = input(f'Do you mean \"{input_song}\" performed by \"{check_singer}\"? (Y/N) ')\n",
    "            if comfirm.lower() == 'y':\n",
    "                print(f'Got it! Playing \"{input_song}\"!')\n",
    "                break\n",
    "            else:\n",
    "                rec_hot = random.sample(hot.song.tolist(), k=5)\n",
    "                print(f'Sorry, this is not a hot song. Would you like to try one of these hot songs? {rec_hot}')\n",
    "        else:\n",
    "            rec_hot = random.sample(hot.song.tolist(), k=5)\n",
    "            print(f'Sorry, this is not a hot song. Would you like to try one of these hot songs? {rec_hot}')\n"
   ]
  },
  {
   "cell_type": "code",
   "execution_count": 11,
   "id": "f74fa63c",
   "metadata": {},
   "outputs": [
    {
     "name": "stdout",
     "output_type": "stream",
     "text": [
      "Please enter a hot song: flower\n",
      "Do you mean \"Flowers\" performed by \"Miley Cyrus\"? (Y/N) n\n",
      "Sorry, this is not a hot song. Would you like to try one of these hot songs? ['What My World Spins Around', 'Ghost In The Machine', 'Sure Thing', 'Bad Habit', 'Bzrp Music Sessions, Vol. 53']\n",
      "Please enter a hot song: flowers\n",
      "Do you mean \"Flowers\" performed by \"Miley Cyrus\"? (Y/N) y\n",
      "Got it! Playing \"Flowers\"!\n"
     ]
    }
   ],
   "source": [
    "GrooveGenie()"
   ]
  }
 ],
 "metadata": {
  "kernelspec": {
   "display_name": "Python 3 (ipykernel)",
   "language": "python",
   "name": "python3"
  },
  "language_info": {
   "codemirror_mode": {
    "name": "ipython",
    "version": 3
   },
   "file_extension": ".py",
   "mimetype": "text/x-python",
   "name": "python",
   "nbconvert_exporter": "python",
   "pygments_lexer": "ipython3",
   "version": "3.9.12"
  }
 },
 "nbformat": 4,
 "nbformat_minor": 5
}
