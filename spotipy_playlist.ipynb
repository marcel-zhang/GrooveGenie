{
 "cells": [
  {
   "cell_type": "markdown",
   "metadata": {
    "id": "-M3QFIFrKdPt"
   },
   "source": [
    "# Installing Spotipy"
   ]
  },
  {
   "cell_type": "markdown",
   "metadata": {
    "id": "o2ooSokHKfsd"
   },
   "source": [
    "In order to use the Spotify API (SpotiPy) we will have to create an account in Spotify and follow these steps. Once we have done it we will start initializing the API and look at the search method for which we can introduce a \"query\" q, in this example we will try it with Lady Gaga:"
   ]
  },
  {
   "cell_type": "code",
   "execution_count": 1,
   "metadata": {
    "colab": {
     "base_uri": "https://localhost:8080/"
    },
    "executionInfo": {
     "elapsed": 5245,
     "status": "ok",
     "timestamp": 1623745902730,
     "user": {
      "displayName": "Ignacio Soteras",
      "photoUrl": "",
      "userId": "02050793736257155229"
     },
     "user_tz": -120
    },
    "id": "tis_6tTpKY1Z",
    "outputId": "adfb4763-04d9-4b55-b0d8-c5e317263072"
   },
   "outputs": [],
   "source": [
    "##!conda install -c conda-forge spotipy"
   ]
  },
  {
   "cell_type": "markdown",
   "metadata": {
    "id": "fnhh4ayEOKz4"
   },
   "source": [
    "## Loading credentials from another config file"
   ]
  },
  {
   "cell_type": "code",
   "execution_count": 2,
   "metadata": {
    "ExecuteTime": {
     "end_time": "2022-11-23T08:53:19.773334Z",
     "start_time": "2022-11-23T08:53:19.511876Z"
    },
    "colab": {
     "base_uri": "https://localhost:8080/"
    },
    "executionInfo": {
     "elapsed": 23559,
     "status": "ok",
     "timestamp": 1623745938174,
     "user": {
      "displayName": "Ignacio Soteras",
      "photoUrl": "",
      "userId": "02050793736257155229"
     },
     "user_tz": -120
    },
    "id": "5j1kqPOoN_I5",
    "outputId": "23c4b5dd-b94b-425d-e2b9-e5647cb055df"
   },
   "outputs": [],
   "source": [
    "import config"
   ]
  },
  {
   "cell_type": "markdown",
   "metadata": {
    "id": "0fpGWmsCOSx0"
   },
   "source": [
    "## Starting with Spotify API"
   ]
  },
  {
   "cell_type": "code",
   "execution_count": 3,
   "metadata": {},
   "outputs": [],
   "source": [
    "import spotipy\n",
    "import json\n",
    "from spotipy.oauth2 import SpotifyClientCredentials\n",
    "import pandas as pd"
   ]
  },
  {
   "cell_type": "code",
   "execution_count": 4,
   "metadata": {},
   "outputs": [],
   "source": [
    "#Initialize SpotiPy with user credentias\n",
    "sp = spotipy.Spotify(auth_manager=SpotifyClientCredentials(client_id= config.client_id,\n",
    "                                                           client_secret= config.client_secret))"
   ]
  },
  {
   "cell_type": "code",
   "execution_count": 5,
   "metadata": {},
   "outputs": [],
   "source": [
    "# The playlists involved are all created by Spotify\n",
    "username = 'Spotify'"
   ]
  },
  {
   "cell_type": "code",
   "execution_count": 6,
   "metadata": {},
   "outputs": [],
   "source": [
    "# get playlists\n",
    "results = sp.user_playlists(username, limit = 30)"
   ]
  },
  {
   "cell_type": "code",
   "execution_count": 7,
   "metadata": {},
   "outputs": [],
   "source": [
    "playlist_ids = []\n",
    "for playlist in results['items']:\n",
    "    playlist_ids.append(playlist['id'])"
   ]
  },
  {
   "cell_type": "code",
   "execution_count": 8,
   "metadata": {},
   "outputs": [
    {
     "data": {
      "text/plain": [
       "['37i9dQZF1DXcBWIGoYBM5M',\n",
       " '37i9dQZF1DX0XUsuxWHRQd',\n",
       " '37i9dQZF1DX1lVhptIYRda',\n",
       " '37i9dQZF1DX10zKzsJ2jva',\n",
       " '37i9dQZF1DX4JAvHpjipBk',\n",
       " '37i9dQZF1DX4sWSpwq3LiO',\n",
       " '37i9dQZF1DX4SBhb3fqCJd',\n",
       " '37i9dQZF1DWXRqgorJj26U',\n",
       " '37i9dQZF1DX4dyzvuaRJ0n',\n",
       " '37i9dQZF1DXcF6B6QPhFDv',\n",
       " '37i9dQZF1DWXJfnUiYjUKT',\n",
       " '37i9dQZF1DXcRXFNfZr7Tp',\n",
       " '37i9dQZF1DX4o1oenSJRJd',\n",
       " '37i9dQZF1DXbTxeAdrVG2l',\n",
       " '37i9dQZF1DX4UtSsGT1Sbe',\n",
       " '37i9dQZF1DWTJ7xPn4vNaz',\n",
       " '37i9dQZF1DXaKIA8E7WcJj',\n",
       " '37i9dQZF1DWSV3Tk4GO2fq',\n",
       " '37i9dQZF1DWTwnEm1IYyoj',\n",
       " '37i9dQZF1DX2A29LI7xHn1',\n",
       " '37i9dQZF1DX2RxBh64BHjQ',\n",
       " '37i9dQZF1DWVA1Gq4XHa6U',\n",
       " '37i9dQZF1DWY4xHQp97fN6',\n",
       " '37i9dQZF1DWX3387IZmjNa',\n",
       " '37i9dQZF1DWYkaDif7Ztbp',\n",
       " '37i9dQZF1DX5hR0J49CmXC',\n",
       " '37i9dQZF1DXan38dNVDdl4',\n",
       " '37i9dQZF1DWSvKsRPPnv5o',\n",
       " '37i9dQZF1DWUVpAXiEPK8P',\n",
       " '37i9dQZF1DX0Tkc6ltcBfU']"
      ]
     },
     "execution_count": 8,
     "metadata": {},
     "output_type": "execute_result"
    }
   ],
   "source": [
    "playlist_ids"
   ]
  },
  {
   "cell_type": "code",
   "execution_count": 9,
   "metadata": {},
   "outputs": [],
   "source": [
    "# playlist_genres = ['Pop', 'Hip-Hop', 'Rock', 'Dance', 'Reggaeton', ]\n",
    "# playlist_names = ['Songs to Sing in the Car', 'RapCaviar', 'Rock Classics', 'Motivation Mix', 'Viva Latino', ]\n",
    "# playlist_ids = ['37i9dQZF1DWWMOmoXKqHTD', '37i9dQZF1DX0XUsuxWHRQd', '37i9dQZF1DWXRqgorJj26U', '37i9dQZF1DXdxcBWuJkbcy', '37i9dQZF1DX10zKzsJ2jva']"
   ]
  },
  {
   "cell_type": "code",
   "execution_count": 10,
   "metadata": {},
   "outputs": [],
   "source": [
    "# # get json of a specific playlist\n",
    "# username = 'maka_97'\n",
    "# playlist_id = '6mtYuOxzl58vSGnEDtZ9uB' # get from url of the playplist ('https://open.spotify.com/playlist/6mtYuOxzl58vSGnEDtZ9uB')\n",
    "\n",
    "# playlist = sp.user_playlist_tracks(username, playlist_id, market=\"GB\")"
   ]
  },
  {
   "cell_type": "code",
   "execution_count": 11,
   "metadata": {},
   "outputs": [],
   "source": [
    "# define a function to extract tracks of a playlist\n",
    "def get_playlist_tracks(username, playlist_id):\n",
    "    results = sp.user_playlist_tracks(username,playlist_id,market=\"GB\")\n",
    "    tracks = results['items']\n",
    "    while results['next']:\n",
    "        results = sp.next(results)\n",
    "        tracks.extend(results['items'])\n",
    "    return tracks"
   ]
  },
  {
   "cell_type": "code",
   "execution_count": 12,
   "metadata": {},
   "outputs": [],
   "source": [
    "# extract tracks from the playlists"
   ]
  },
  {
   "cell_type": "code",
   "execution_count": 13,
   "metadata": {},
   "outputs": [],
   "source": [
    "# # extract tracks from a specific playlist\n",
    "\n",
    "# list_of_audio_features = []\n",
    "\n",
    "# for playlist_id in playlist_ids:\n",
    "#     tracks = get_playlist_tracks('Spotify', playlist_id)\n",
    "#     for item in range(0, len(tracks)):\n",
    "#         audio_features = sp.audio_features(tracks[item][\"track\"][\"id\"])\n",
    "#         if audio_features is not None and len(audio_features) > 0:\n",
    "#             list_of_audio_features.append(audio_features[0])"
   ]
  },
  {
   "cell_type": "code",
   "execution_count": 14,
   "metadata": {},
   "outputs": [],
   "source": [
    "# extract tracks from a specific playlist\n",
    "\n",
    "list_of_audio_features = []\n",
    "\n",
    "for playlist_id in playlist_ids:\n",
    "    tracks = get_playlist_tracks('Spotify', playlist_id)\n",
    "    for item in range(0, len(tracks)):\n",
    "        if tracks[item] is not None and tracks[item][\"track\"] is not None:\n",
    "            audio_features = sp.audio_features(tracks[item][\"track\"][\"id\"])\n",
    "            if audio_features is not None and len(audio_features) > 0:\n",
    "                list_of_audio_features.append(audio_features[0])"
   ]
  },
  {
   "cell_type": "code",
   "execution_count": 15,
   "metadata": {},
   "outputs": [],
   "source": [
    "# sp.audio_features(tracks[item][\"track\"][\"id\"])[0]"
   ]
  },
  {
   "cell_type": "code",
   "execution_count": 16,
   "metadata": {},
   "outputs": [
    {
     "data": {
      "text/html": [
       "<div>\n",
       "<style scoped>\n",
       "    .dataframe tbody tr th:only-of-type {\n",
       "        vertical-align: middle;\n",
       "    }\n",
       "\n",
       "    .dataframe tbody tr th {\n",
       "        vertical-align: top;\n",
       "    }\n",
       "\n",
       "    .dataframe thead th {\n",
       "        text-align: right;\n",
       "    }\n",
       "</style>\n",
       "<table border=\"1\" class=\"dataframe\">\n",
       "  <thead>\n",
       "    <tr style=\"text-align: right;\">\n",
       "      <th></th>\n",
       "      <th>danceability</th>\n",
       "      <th>energy</th>\n",
       "      <th>loudness</th>\n",
       "      <th>speechiness</th>\n",
       "      <th>acousticness</th>\n",
       "      <th>instrumentalness</th>\n",
       "      <th>liveness</th>\n",
       "      <th>valence</th>\n",
       "      <th>tempo</th>\n",
       "      <th>id</th>\n",
       "      <th>duration_ms</th>\n",
       "    </tr>\n",
       "  </thead>\n",
       "  <tbody>\n",
       "    <tr>\n",
       "      <th>0</th>\n",
       "      <td>0.707</td>\n",
       "      <td>0.681</td>\n",
       "      <td>-4.325</td>\n",
       "      <td>0.0668</td>\n",
       "      <td>0.06320</td>\n",
       "      <td>0.000005</td>\n",
       "      <td>0.0322</td>\n",
       "      <td>0.646</td>\n",
       "      <td>117.999</td>\n",
       "      <td>0yLdNVWF3Srea0uzk55zFn</td>\n",
       "      <td>200455</td>\n",
       "    </tr>\n",
       "    <tr>\n",
       "      <th>1</th>\n",
       "      <td>0.644</td>\n",
       "      <td>0.735</td>\n",
       "      <td>-5.747</td>\n",
       "      <td>0.0391</td>\n",
       "      <td>0.05210</td>\n",
       "      <td>0.144000</td>\n",
       "      <td>0.1610</td>\n",
       "      <td>0.418</td>\n",
       "      <td>88.980</td>\n",
       "      <td>1Qrg8KqiBpW07V7PNxwwwL</td>\n",
       "      <td>153947</td>\n",
       "    </tr>\n",
       "    <tr>\n",
       "      <th>2</th>\n",
       "      <td>0.696</td>\n",
       "      <td>0.809</td>\n",
       "      <td>-8.254</td>\n",
       "      <td>0.0500</td>\n",
       "      <td>0.25200</td>\n",
       "      <td>0.000128</td>\n",
       "      <td>0.2480</td>\n",
       "      <td>0.857</td>\n",
       "      <td>132.962</td>\n",
       "      <td>6AQbmUe0Qwf5PZnt4HmTXv</td>\n",
       "      <td>131013</td>\n",
       "    </tr>\n",
       "    <tr>\n",
       "      <th>3</th>\n",
       "      <td>0.538</td>\n",
       "      <td>0.742</td>\n",
       "      <td>-5.355</td>\n",
       "      <td>0.1140</td>\n",
       "      <td>0.13800</td>\n",
       "      <td>0.000047</td>\n",
       "      <td>0.0934</td>\n",
       "      <td>0.250</td>\n",
       "      <td>96.107</td>\n",
       "      <td>5Z2MiIZ5I3jJvvmeWMLbOQ</td>\n",
       "      <td>272373</td>\n",
       "    </tr>\n",
       "    <tr>\n",
       "      <th>4</th>\n",
       "      <td>0.662</td>\n",
       "      <td>0.398</td>\n",
       "      <td>-6.691</td>\n",
       "      <td>0.0275</td>\n",
       "      <td>0.71600</td>\n",
       "      <td>0.000000</td>\n",
       "      <td>0.1110</td>\n",
       "      <td>0.468</td>\n",
       "      <td>107.001</td>\n",
       "      <td>4sx6NRwL6Ol3V6m9exwGlQ</td>\n",
       "      <td>145850</td>\n",
       "    </tr>\n",
       "    <tr>\n",
       "      <th>...</th>\n",
       "      <td>...</td>\n",
       "      <td>...</td>\n",
       "      <td>...</td>\n",
       "      <td>...</td>\n",
       "      <td>...</td>\n",
       "      <td>...</td>\n",
       "      <td>...</td>\n",
       "      <td>...</td>\n",
       "      <td>...</td>\n",
       "      <td>...</td>\n",
       "      <td>...</td>\n",
       "    </tr>\n",
       "    <tr>\n",
       "      <th>2895</th>\n",
       "      <td>0.645</td>\n",
       "      <td>0.842</td>\n",
       "      <td>-3.023</td>\n",
       "      <td>0.0983</td>\n",
       "      <td>0.00816</td>\n",
       "      <td>0.000000</td>\n",
       "      <td>0.3960</td>\n",
       "      <td>0.237</td>\n",
       "      <td>150.039</td>\n",
       "      <td>2kMuUWfsueRPYWxyaTSHd8</td>\n",
       "      <td>121600</td>\n",
       "    </tr>\n",
       "    <tr>\n",
       "      <th>2896</th>\n",
       "      <td>0.868</td>\n",
       "      <td>0.562</td>\n",
       "      <td>-5.111</td>\n",
       "      <td>0.2510</td>\n",
       "      <td>0.01110</td>\n",
       "      <td>0.000000</td>\n",
       "      <td>0.0826</td>\n",
       "      <td>0.132</td>\n",
       "      <td>89.951</td>\n",
       "      <td>27feJmQBpvsnW4tC4M7pw4</td>\n",
       "      <td>117543</td>\n",
       "    </tr>\n",
       "    <tr>\n",
       "      <th>2897</th>\n",
       "      <td>0.422</td>\n",
       "      <td>0.536</td>\n",
       "      <td>-6.605</td>\n",
       "      <td>0.0530</td>\n",
       "      <td>0.40500</td>\n",
       "      <td>0.000000</td>\n",
       "      <td>0.2040</td>\n",
       "      <td>0.719</td>\n",
       "      <td>151.206</td>\n",
       "      <td>1yXCWJQfYF8ff7XcUzwcCy</td>\n",
       "      <td>155760</td>\n",
       "    </tr>\n",
       "    <tr>\n",
       "      <th>2898</th>\n",
       "      <td>0.902</td>\n",
       "      <td>0.544</td>\n",
       "      <td>-8.242</td>\n",
       "      <td>0.2420</td>\n",
       "      <td>0.15300</td>\n",
       "      <td>0.000000</td>\n",
       "      <td>0.1110</td>\n",
       "      <td>0.136</td>\n",
       "      <td>131.912</td>\n",
       "      <td>7b4LMdMrjPLNUNwxO46sQR</td>\n",
       "      <td>160000</td>\n",
       "    </tr>\n",
       "    <tr>\n",
       "      <th>2899</th>\n",
       "      <td>0.529</td>\n",
       "      <td>0.687</td>\n",
       "      <td>-7.142</td>\n",
       "      <td>0.2800</td>\n",
       "      <td>0.02420</td>\n",
       "      <td>0.000001</td>\n",
       "      <td>0.1290</td>\n",
       "      <td>0.222</td>\n",
       "      <td>82.283</td>\n",
       "      <td>6N8OxmReKE2Qg0SY2x6gDD</td>\n",
       "      <td>242800</td>\n",
       "    </tr>\n",
       "  </tbody>\n",
       "</table>\n",
       "<p>2900 rows × 11 columns</p>\n",
       "</div>"
      ],
      "text/plain": [
       "      danceability  energy  loudness  speechiness  acousticness  \\\n",
       "0            0.707   0.681    -4.325       0.0668       0.06320   \n",
       "1            0.644   0.735    -5.747       0.0391       0.05210   \n",
       "2            0.696   0.809    -8.254       0.0500       0.25200   \n",
       "3            0.538   0.742    -5.355       0.1140       0.13800   \n",
       "4            0.662   0.398    -6.691       0.0275       0.71600   \n",
       "...            ...     ...       ...          ...           ...   \n",
       "2895         0.645   0.842    -3.023       0.0983       0.00816   \n",
       "2896         0.868   0.562    -5.111       0.2510       0.01110   \n",
       "2897         0.422   0.536    -6.605       0.0530       0.40500   \n",
       "2898         0.902   0.544    -8.242       0.2420       0.15300   \n",
       "2899         0.529   0.687    -7.142       0.2800       0.02420   \n",
       "\n",
       "      instrumentalness  liveness  valence    tempo                      id  \\\n",
       "0             0.000005    0.0322    0.646  117.999  0yLdNVWF3Srea0uzk55zFn   \n",
       "1             0.144000    0.1610    0.418   88.980  1Qrg8KqiBpW07V7PNxwwwL   \n",
       "2             0.000128    0.2480    0.857  132.962  6AQbmUe0Qwf5PZnt4HmTXv   \n",
       "3             0.000047    0.0934    0.250   96.107  5Z2MiIZ5I3jJvvmeWMLbOQ   \n",
       "4             0.000000    0.1110    0.468  107.001  4sx6NRwL6Ol3V6m9exwGlQ   \n",
       "...                ...       ...      ...      ...                     ...   \n",
       "2895          0.000000    0.3960    0.237  150.039  2kMuUWfsueRPYWxyaTSHd8   \n",
       "2896          0.000000    0.0826    0.132   89.951  27feJmQBpvsnW4tC4M7pw4   \n",
       "2897          0.000000    0.2040    0.719  151.206  1yXCWJQfYF8ff7XcUzwcCy   \n",
       "2898          0.000000    0.1110    0.136  131.912  7b4LMdMrjPLNUNwxO46sQR   \n",
       "2899          0.000001    0.1290    0.222   82.283  6N8OxmReKE2Qg0SY2x6gDD   \n",
       "\n",
       "      duration_ms  \n",
       "0          200455  \n",
       "1          153947  \n",
       "2          131013  \n",
       "3          272373  \n",
       "4          145850  \n",
       "...           ...  \n",
       "2895       121600  \n",
       "2896       117543  \n",
       "2897       155760  \n",
       "2898       160000  \n",
       "2899       242800  \n",
       "\n",
       "[2900 rows x 11 columns]"
      ]
     },
     "execution_count": 16,
     "metadata": {},
     "output_type": "execute_result"
    }
   ],
   "source": [
    "# create a dataframe for audio features\n",
    "playlists_raw_df = pd.DataFrame(list_of_audio_features)\n",
    "\n",
    "# Select some features only\n",
    "\n",
    "playlists_df = playlists_raw_df[[\"danceability\",\"energy\",\"loudness\",\"speechiness\",\"acousticness\",\n",
    "    \"instrumentalness\",\"liveness\",\"valence\",\"tempo\",\"id\",\"duration_ms\"]]\n",
    "\n",
    "playlists_df"
   ]
  },
  {
   "cell_type": "code",
   "execution_count": 22,
   "metadata": {},
   "outputs": [
    {
     "name": "stderr",
     "output_type": "stream",
     "text": [
      "/var/folders/bw/0thxs7yn1z3blkjjv4d_d27w0000gn/T/ipykernel_4777/789992726.py:1: SettingWithCopyWarning: \n",
      "A value is trying to be set on a copy of a slice from a DataFrame\n",
      "\n",
      "See the caveats in the documentation: https://pandas.pydata.org/pandas-docs/stable/user_guide/indexing.html#returning-a-view-versus-a-copy\n",
      "  playlists_df.drop_duplicates(inplace=True)\n"
     ]
    }
   ],
   "source": [
    "playlists_df.drop_duplicates(inplace=True)\n",
    "playlists_df.to_csv('data/playlists.csv', index = False)"
   ]
  },
  {
   "cell_type": "code",
   "execution_count": 17,
   "metadata": {},
   "outputs": [
    {
     "name": "stdout",
     "output_type": "stream",
     "text": [
      "'Gucci Mane'\n"
     ]
    }
   ],
   "source": [
    "import pprint\n",
    "# Check where to find artist names\n",
    "pprint.pprint(tracks[0]['track']['artists'][0]['name'])"
   ]
  },
  {
   "cell_type": "code",
   "execution_count": 19,
   "metadata": {},
   "outputs": [],
   "source": [
    "def get_tracks_artists(username, playlist_id):\n",
    "    tracks = get_playlist_tracks(username, playlist_id)\n",
    "    if tracks is not None:\n",
    "        artists = []\n",
    "        for item in range(0, len(tracks)):\n",
    "            artists.append(tracks[item]['track']['artists'][0]['name'])\n",
    "        return artists\n",
    "    else:\n",
    "        return []"
   ]
  },
  {
   "cell_type": "code",
   "execution_count": 20,
   "metadata": {},
   "outputs": [
    {
     "ename": "TypeError",
     "evalue": "'NoneType' object is not subscriptable",
     "output_type": "error",
     "traceback": [
      "\u001b[0;31m---------------------------------------------------------------------------\u001b[0m",
      "\u001b[0;31mTypeError\u001b[0m                                 Traceback (most recent call last)",
      "Input \u001b[0;32mIn [20]\u001b[0m, in \u001b[0;36m<cell line: 4>\u001b[0;34m()\u001b[0m\n\u001b[1;32m      2\u001b[0m artist_list \u001b[38;5;241m=\u001b[39m []\n\u001b[1;32m      4\u001b[0m \u001b[38;5;28;01mfor\u001b[39;00m playlist_id \u001b[38;5;129;01min\u001b[39;00m playlist_ids:\n\u001b[0;32m----> 5\u001b[0m     artist_list\u001b[38;5;241m.\u001b[39mextend(\u001b[43mget_tracks_artists\u001b[49m\u001b[43m(\u001b[49m\u001b[38;5;124;43m'\u001b[39;49m\u001b[38;5;124;43mSpotify\u001b[39;49m\u001b[38;5;124;43m'\u001b[39;49m\u001b[43m,\u001b[49m\u001b[43m \u001b[49m\u001b[43mplaylist_id\u001b[49m\u001b[43m)\u001b[49m)\n",
      "Input \u001b[0;32mIn [19]\u001b[0m, in \u001b[0;36mget_tracks_artists\u001b[0;34m(username, playlist_id)\u001b[0m\n\u001b[1;32m      4\u001b[0m     artists \u001b[38;5;241m=\u001b[39m []\n\u001b[1;32m      5\u001b[0m     \u001b[38;5;28;01mfor\u001b[39;00m item \u001b[38;5;129;01min\u001b[39;00m \u001b[38;5;28mrange\u001b[39m(\u001b[38;5;241m0\u001b[39m, \u001b[38;5;28mlen\u001b[39m(tracks)):\n\u001b[0;32m----> 6\u001b[0m         artists\u001b[38;5;241m.\u001b[39mappend(\u001b[43mtracks\u001b[49m\u001b[43m[\u001b[49m\u001b[43mitem\u001b[49m\u001b[43m]\u001b[49m\u001b[43m[\u001b[49m\u001b[38;5;124;43m'\u001b[39;49m\u001b[38;5;124;43mtrack\u001b[39;49m\u001b[38;5;124;43m'\u001b[39;49m\u001b[43m]\u001b[49m\u001b[43m[\u001b[49m\u001b[38;5;124;43m'\u001b[39;49m\u001b[38;5;124;43martists\u001b[39;49m\u001b[38;5;124;43m'\u001b[39;49m\u001b[43m]\u001b[49m[\u001b[38;5;241m0\u001b[39m][\u001b[38;5;124m'\u001b[39m\u001b[38;5;124mname\u001b[39m\u001b[38;5;124m'\u001b[39m])\n\u001b[1;32m      7\u001b[0m     \u001b[38;5;28;01mreturn\u001b[39;00m artists\n\u001b[1;32m      8\u001b[0m \u001b[38;5;28;01melse\u001b[39;00m:\n",
      "\u001b[0;31mTypeError\u001b[0m: 'NoneType' object is not subscriptable"
     ]
    }
   ],
   "source": [
    "# Get the artists of tracks from all playlists\n",
    "artist_list = []\n",
    "\n",
    "for playlist_id in playlist_ids:\n",
    "    artist_list.extend(get_tracks_artists('Spotify', playlist_id))"
   ]
  },
  {
   "cell_type": "code",
   "execution_count": null,
   "metadata": {},
   "outputs": [],
   "source": [
    "len(artist_list)"
   ]
  },
  {
   "cell_type": "code",
   "execution_count": null,
   "metadata": {},
   "outputs": [],
   "source": [
    "playlists_df['artist'] = artist_list"
   ]
  },
  {
   "cell_type": "code",
   "execution_count": null,
   "metadata": {
    "scrolled": true
   },
   "outputs": [],
   "source": [
    "# check where to find track names\n",
    "pprint.pprint(tracks[0]['track']['name'])"
   ]
  },
  {
   "cell_type": "code",
   "execution_count": null,
   "metadata": {},
   "outputs": [],
   "source": [
    "# define a function to get track names\n",
    "def get_tracks_names(username, playlist_id):\n",
    "    tracks = get_playlist_tracks(username, playlist_id)\n",
    "    if tracks is not None:\n",
    "        track_names = []\n",
    "        for item in range(0, len(tracks)):\n",
    "            track_names.append(tracks[item]['track']['name'])\n",
    "        return track_names\n",
    "    else:\n",
    "        return []"
   ]
  },
  {
   "cell_type": "code",
   "execution_count": null,
   "metadata": {},
   "outputs": [],
   "source": [
    "# Get the names of tracks from all playlists\n",
    "name_list = []\n",
    "\n",
    "for playlist_id in playlist_ids:\n",
    "    name_list.extend(get_tracks_names('Spotify', playlist_id))"
   ]
  },
  {
   "cell_type": "code",
   "execution_count": null,
   "metadata": {
    "scrolled": false
   },
   "outputs": [],
   "source": [
    "#get get track names and include it to the dataframe\n",
    "playlists_df['name'] = name_list"
   ]
  },
  {
   "cell_type": "code",
   "execution_count": null,
   "metadata": {},
   "outputs": [],
   "source": [
    "# check where to get album names\n",
    "pprint.pprint(tracks[0]['track']['album']['name'])"
   ]
  },
  {
   "cell_type": "code",
   "execution_count": null,
   "metadata": {},
   "outputs": [],
   "source": [
    "# define a function to get album names\n",
    "def get_tracks_albums(username, playlist_id):\n",
    "    tracks = get_playlist_tracks(username, playlist_id)\n",
    "    if tracks is not None:\n",
    "        albums = []\n",
    "        for item in range(0, len(tracks)):\n",
    "            albums.append(tracks[item]['track']['album']['name'])\n",
    "        return albums\n",
    "    else:\n",
    "        return []"
   ]
  },
  {
   "cell_type": "code",
   "execution_count": null,
   "metadata": {},
   "outputs": [],
   "source": [
    "# Get albums from all playlists\n",
    "album_list = []\n",
    "\n",
    "for playlist_id in playlist_ids:\n",
    "    album_list.extend(get_tracks_albums('Spotify', playlist_id))"
   ]
  },
  {
   "cell_type": "code",
   "execution_count": null,
   "metadata": {},
   "outputs": [],
   "source": [
    "#get get track names and include it to the dataframe\n",
    "playlists_df['album'] = album_list"
   ]
  },
  {
   "cell_type": "code",
   "execution_count": null,
   "metadata": {},
   "outputs": [],
   "source": [
    "# check where to get the popularity of tracks\n",
    "pprint.pprint(tracks[0]['track']['popularity'])"
   ]
  },
  {
   "cell_type": "code",
   "execution_count": null,
   "metadata": {},
   "outputs": [],
   "source": [
    "# define a function to get album names\n",
    "def get_tracks_popularity(username, playlist_id):\n",
    "    tracks = get_playlist_tracks(username, playlist_id)\n",
    "    if tracks is not None:\n",
    "        tracks_popularity = []\n",
    "        for item in range(0, len(tracks)):\n",
    "            tracks_popularity.append(tracks[item]['track']['popularity'])\n",
    "        return tracks_popularity\n",
    "    else:\n",
    "        return []"
   ]
  },
  {
   "cell_type": "code",
   "execution_count": null,
   "metadata": {},
   "outputs": [],
   "source": [
    "# define a function to get track names\n",
    "def get_tracks_popularity(username, playlist_id):\n",
    "    tracks = get_playlist_tracks(username, playlist_id)\n",
    "    popularity_li = []\n",
    "    for item in range(0, len(tracks)):\n",
    "        popularity_li.append(tracks[item]['track']['popularity'])\n",
    "    return popularity_li"
   ]
  },
  {
   "cell_type": "code",
   "execution_count": null,
   "metadata": {},
   "outputs": [],
   "source": [
    "# Get popularity scores from all playlists\n",
    "popularity_list = []\n",
    "\n",
    "for playlist_id in playlist_ids:\n",
    "    popularity_list.extend(get_tracks_popularity('Spotify', playlist_id))"
   ]
  },
  {
   "cell_type": "code",
   "execution_count": null,
   "metadata": {},
   "outputs": [],
   "source": [
    "#include popularity scores to the dataframe\n",
    "playlists_df['popularity'] = popularity_list"
   ]
  },
  {
   "cell_type": "code",
   "execution_count": null,
   "metadata": {},
   "outputs": [],
   "source": [
    "playlists_df"
   ]
  },
  {
   "cell_type": "code",
   "execution_count": null,
   "metadata": {},
   "outputs": [],
   "source": [
    "# check where to get the release date of tracks\n",
    "pprint.pprint(tracks[0]['track']['album']['release_date'])"
   ]
  },
  {
   "cell_type": "code",
   "execution_count": null,
   "metadata": {},
   "outputs": [],
   "source": [
    "# define a function to get release dates\n",
    "def get_tracks_dates(username, playlist_id):\n",
    "    tracks = get_playlist_tracks(username, playlist_id)\n",
    "    if tracks is not None:\n",
    "        dates = []\n",
    "        for item in range(0, len(tracks)):\n",
    "            dates.append(tracks[item]['track']['album']['release_date'])\n",
    "        return dates\n",
    "    else:\n",
    "        return []"
   ]
  },
  {
   "cell_type": "code",
   "execution_count": null,
   "metadata": {},
   "outputs": [],
   "source": [
    "# Get release dates from all playlists\n",
    "dates_list = []\n",
    "\n",
    "for playlist_id in playlist_ids:\n",
    "    dates_list.extend(get_tracks_dates('Spotify', playlist_id))"
   ]
  },
  {
   "cell_type": "code",
   "execution_count": null,
   "metadata": {},
   "outputs": [],
   "source": [
    "#include popularity scores to the dataframe\n",
    "playlists_df['release_date'] = dates_list"
   ]
  },
  {
   "cell_type": "code",
   "execution_count": null,
   "metadata": {},
   "outputs": [],
   "source": [
    "playlists_df"
   ]
  },
  {
   "cell_type": "code",
   "execution_count": null,
   "metadata": {},
   "outputs": [],
   "source": [
    "playlists_df.info()"
   ]
  },
  {
   "cell_type": "code",
   "execution_count": null,
   "metadata": {},
   "outputs": [],
   "source": [
    "# convert 'release_date' to a datetime column\n",
    "playlists_df['release_date'] = pd.to_datetime(playlists_df['release_date'], format='%Y-%m-%d')\n",
    "\n",
    "# convert datetime column to a numerical format\n",
    "playlists_df['release_date_ordinal'] = playlists_df['release_date'].apply(lambda x: x.toordinal())\n",
    "\n",
    "# drop original datetime column\n",
    "playlists_df = playlists_df.drop(columns=['release_date'])"
   ]
  },
  {
   "cell_type": "code",
   "execution_count": null,
   "metadata": {},
   "outputs": [],
   "source": [
    "playlists_df.info()"
   ]
  },
  {
   "cell_type": "code",
   "execution_count": null,
   "metadata": {},
   "outputs": [],
   "source": [
    "# Resort the columns\n",
    "new_order = ['id', 'name', 'artist', 'album', 'release_date_ordinal', 'popularity', 'duration_ms',\n",
    "             'danceability', 'energy', 'loudness', 'speechiness', 'acousticness', 'instrumentalness', \n",
    "             'liveness', 'valence', 'tempo']\n",
    "\n",
    "playlists_df = playlists_df.reindex(columns=new_order)\n"
   ]
  },
  {
   "cell_type": "code",
   "execution_count": null,
   "metadata": {},
   "outputs": [],
   "source": [
    "# Remove duplicates\n",
    "\n",
    "playlists_df.drop_duplicates(inplace=True)"
   ]
  },
  {
   "cell_type": "code",
   "execution_count": null,
   "metadata": {},
   "outputs": [],
   "source": [
    "playlists_df.info()"
   ]
  }
 ],
 "metadata": {
  "colab": {
   "authorship_tag": "ABX9TyPVWC1t3Am5oxfsHrz0cF36",
   "mount_file_id": "1f3HsS5F0GzS75tlHyrwhBGlTWbE0nG4o",
   "name": "Code_along_Spotify_structure.ipynb",
   "provenance": []
  },
  "kernelspec": {
   "display_name": "Python 3 (ipykernel)",
   "language": "python",
   "name": "python3"
  },
  "language_info": {
   "codemirror_mode": {
    "name": "ipython",
    "version": 3
   },
   "file_extension": ".py",
   "mimetype": "text/x-python",
   "name": "python",
   "nbconvert_exporter": "python",
   "pygments_lexer": "ipython3",
   "version": "3.9.12"
  },
  "toc": {
   "base_numbering": 1,
   "nav_menu": {},
   "number_sections": true,
   "sideBar": true,
   "skip_h1_title": false,
   "title_cell": "Table of Contents",
   "title_sidebar": "Contents",
   "toc_cell": false,
   "toc_position": {},
   "toc_section_display": true,
   "toc_window_display": false
  },
  "varInspector": {
   "cols": {
    "lenName": 16,
    "lenType": 16,
    "lenVar": 40
   },
   "kernels_config": {
    "python": {
     "delete_cmd_postfix": "",
     "delete_cmd_prefix": "del ",
     "library": "var_list.py",
     "varRefreshCmd": "print(var_dic_list())"
    },
    "r": {
     "delete_cmd_postfix": ") ",
     "delete_cmd_prefix": "rm(",
     "library": "var_list.r",
     "varRefreshCmd": "cat(var_dic_list()) "
    }
   },
   "types_to_exclude": [
    "module",
    "function",
    "builtin_function_or_method",
    "instance",
    "_Feature"
   ],
   "window_display": false
  }
 },
 "nbformat": 4,
 "nbformat_minor": 1
}
