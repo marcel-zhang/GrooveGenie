{
 "cells": [
  {
   "cell_type": "markdown",
   "metadata": {
    "id": "-M3QFIFrKdPt"
   },
   "source": [
    "# Installing Spotipy"
   ]
  },
  {
   "cell_type": "markdown",
   "metadata": {
    "id": "o2ooSokHKfsd"
   },
   "source": [
    "In order to use the Spotify API (SpotiPy) we will have to create an account in Spotify and follow these steps. Once we have done it we will start initializing the API and look at the search method for which we can introduce a \"query\" q, in this example we will try it with Lady Gaga:"
   ]
  },
  {
   "cell_type": "code",
   "execution_count": 1,
   "metadata": {
    "colab": {
     "base_uri": "https://localhost:8080/"
    },
    "executionInfo": {
     "elapsed": 5245,
     "status": "ok",
     "timestamp": 1623745902730,
     "user": {
      "displayName": "Ignacio Soteras",
      "photoUrl": "",
      "userId": "02050793736257155229"
     },
     "user_tz": -120
    },
    "id": "tis_6tTpKY1Z",
    "outputId": "adfb4763-04d9-4b55-b0d8-c5e317263072"
   },
   "outputs": [],
   "source": [
    "##!conda install -c conda-forge spotipy"
   ]
  },
  {
   "cell_type": "markdown",
   "metadata": {
    "id": "fnhh4ayEOKz4"
   },
   "source": [
    "## Loading credentials from another config file"
   ]
  },
  {
   "cell_type": "code",
   "execution_count": 1,
   "metadata": {
    "ExecuteTime": {
     "end_time": "2022-11-23T08:53:19.773334Z",
     "start_time": "2022-11-23T08:53:19.511876Z"
    },
    "colab": {
     "base_uri": "https://localhost:8080/"
    },
    "executionInfo": {
     "elapsed": 23559,
     "status": "ok",
     "timestamp": 1623745938174,
     "user": {
      "displayName": "Ignacio Soteras",
      "photoUrl": "",
      "userId": "02050793736257155229"
     },
     "user_tz": -120
    },
    "id": "5j1kqPOoN_I5",
    "outputId": "23c4b5dd-b94b-425d-e2b9-e5647cb055df"
   },
   "outputs": [],
   "source": [
    "import config"
   ]
  },
  {
   "cell_type": "markdown",
   "metadata": {
    "id": "0fpGWmsCOSx0"
   },
   "source": [
    "## Starting with Spotify API"
   ]
  },
  {
   "cell_type": "code",
   "execution_count": 27,
   "metadata": {},
   "outputs": [],
   "source": [
    "import spotipy\n",
    "import json\n",
    "from spotipy.oauth2 import SpotifyClientCredentials\n",
    "import pandas as pd"
   ]
  },
  {
   "cell_type": "code",
   "execution_count": 7,
   "metadata": {},
   "outputs": [],
   "source": [
    "#Initialize SpotiPy with user credentias\n",
    "sp = spotipy.Spotify(auth_manager=SpotifyClientCredentials(client_id= config.client_id,\n",
    "                                                           client_secret= config.client_secret))"
   ]
  },
  {
   "cell_type": "code",
   "execution_count": 13,
   "metadata": {},
   "outputs": [],
   "source": [
    "# get json of a specific playlist\n",
    "username = 'maka_97'\n",
    "playlist_id = '6mtYuOxzl58vSGnEDtZ9uB' # get from url of the playplist ('https://open.spotify.com/playlist/6mtYuOxzl58vSGnEDtZ9uB')\n",
    "\n",
    "playlist = sp.user_playlist_tracks(username, playlist_id, market=\"GB\")"
   ]
  },
  {
   "cell_type": "code",
   "execution_count": 15,
   "metadata": {},
   "outputs": [],
   "source": [
    "# define a function to extract tracks of a playlist\n",
    "def get_playlist_tracks(username, playlist_id):\n",
    "    results = sp.user_playlist_tracks(username,playlist_id,market=\"GB\")\n",
    "    tracks = results['items']\n",
    "    while results['next']:\n",
    "        results = sp.next(results)\n",
    "        tracks.extend(results['items'])\n",
    "    return tracks"
   ]
  },
  {
   "cell_type": "code",
   "execution_count": 16,
   "metadata": {},
   "outputs": [],
   "source": [
    "# extract tracks from a specific playlist\n",
    "tracks = get_playlist_tracks(username, playlist_id)"
   ]
  },
  {
   "cell_type": "code",
   "execution_count": 28,
   "metadata": {},
   "outputs": [],
   "source": [
    "# extract audio features\n",
    "list_of_audio_features=[]\n",
    "for item in range(0,len(tracks)):\n",
    "    # print (tracks[item][\"track\"][\"id\"])\n",
    "    list_of_audio_features.append(sp.audio_features(tracks[item][\"track\"][\"id\"])[0])"
   ]
  },
  {
   "cell_type": "code",
   "execution_count": 37,
   "metadata": {},
   "outputs": [
    {
     "data": {
      "text/plain": [
       "{'danceability': 0.534,\n",
       " 'energy': 0.87,\n",
       " 'key': 11,\n",
       " 'loudness': -3.078,\n",
       " 'mode': 0,\n",
       " 'speechiness': 0.0425,\n",
       " 'acousticness': 0.000334,\n",
       " 'instrumentalness': 0,\n",
       " 'liveness': 0.241,\n",
       " 'valence': 0.462,\n",
       " 'tempo': 126.019,\n",
       " 'type': 'audio_features',\n",
       " 'id': '0JiY190vktuhSGN6aqJdrt',\n",
       " 'uri': 'spotify:track:0JiY190vktuhSGN6aqJdrt',\n",
       " 'track_href': 'https://api.spotify.com/v1/tracks/0JiY190vktuhSGN6aqJdrt',\n",
       " 'analysis_url': 'https://api.spotify.com/v1/audio-analysis/0JiY190vktuhSGN6aqJdrt',\n",
       " 'duration_ms': 215160,\n",
       " 'time_signature': 4}"
      ]
     },
     "execution_count": 37,
     "metadata": {},
     "output_type": "execute_result"
    }
   ],
   "source": [
    "sp.audio_features(tracks[item][\"track\"][\"id\"])[0]"
   ]
  },
  {
   "cell_type": "code",
   "execution_count": 30,
   "metadata": {},
   "outputs": [
    {
     "data": {
      "text/html": [
       "<div>\n",
       "<style scoped>\n",
       "    .dataframe tbody tr th:only-of-type {\n",
       "        vertical-align: middle;\n",
       "    }\n",
       "\n",
       "    .dataframe tbody tr th {\n",
       "        vertical-align: top;\n",
       "    }\n",
       "\n",
       "    .dataframe thead th {\n",
       "        text-align: right;\n",
       "    }\n",
       "</style>\n",
       "<table border=\"1\" class=\"dataframe\">\n",
       "  <thead>\n",
       "    <tr style=\"text-align: right;\">\n",
       "      <th></th>\n",
       "      <th>danceability</th>\n",
       "      <th>energy</th>\n",
       "      <th>loudness</th>\n",
       "      <th>speechiness</th>\n",
       "      <th>acousticness</th>\n",
       "      <th>instrumentalness</th>\n",
       "      <th>liveness</th>\n",
       "      <th>valence</th>\n",
       "      <th>tempo</th>\n",
       "      <th>id</th>\n",
       "      <th>duration_ms</th>\n",
       "    </tr>\n",
       "  </thead>\n",
       "  <tbody>\n",
       "    <tr>\n",
       "      <th>0</th>\n",
       "      <td>0.623</td>\n",
       "      <td>0.734</td>\n",
       "      <td>-5.950</td>\n",
       "      <td>0.1070</td>\n",
       "      <td>0.016200</td>\n",
       "      <td>0.000002</td>\n",
       "      <td>0.1450</td>\n",
       "      <td>0.372</td>\n",
       "      <td>107.853</td>\n",
       "      <td>76FZM38RC8XaAjJ77CVTNe</td>\n",
       "      <td>244453</td>\n",
       "    </tr>\n",
       "    <tr>\n",
       "      <th>1</th>\n",
       "      <td>0.722</td>\n",
       "      <td>0.851</td>\n",
       "      <td>-3.873</td>\n",
       "      <td>0.0639</td>\n",
       "      <td>0.031900</td>\n",
       "      <td>0.000000</td>\n",
       "      <td>0.1080</td>\n",
       "      <td>0.452</td>\n",
       "      <td>126.885</td>\n",
       "      <td>5yDL13y5giogKs2fSNf7sj</td>\n",
       "      <td>197936</td>\n",
       "    </tr>\n",
       "    <tr>\n",
       "      <th>2</th>\n",
       "      <td>0.688</td>\n",
       "      <td>0.734</td>\n",
       "      <td>-4.569</td>\n",
       "      <td>0.0274</td>\n",
       "      <td>0.004620</td>\n",
       "      <td>0.000000</td>\n",
       "      <td>0.0756</td>\n",
       "      <td>0.460</td>\n",
       "      <td>140.004</td>\n",
       "      <td>2hns6Dv29Yrg68AVTJiAyA</td>\n",
       "      <td>208493</td>\n",
       "    </tr>\n",
       "    <tr>\n",
       "      <th>3</th>\n",
       "      <td>0.688</td>\n",
       "      <td>0.702</td>\n",
       "      <td>-4.792</td>\n",
       "      <td>0.0499</td>\n",
       "      <td>0.021500</td>\n",
       "      <td>0.000000</td>\n",
       "      <td>0.1280</td>\n",
       "      <td>0.740</td>\n",
       "      <td>94.006</td>\n",
       "      <td>3jomjC6H7YQBRr2CHPtc4y</td>\n",
       "      <td>192191</td>\n",
       "    </tr>\n",
       "    <tr>\n",
       "      <th>4</th>\n",
       "      <td>0.706</td>\n",
       "      <td>0.841</td>\n",
       "      <td>-3.956</td>\n",
       "      <td>0.0418</td>\n",
       "      <td>0.000079</td>\n",
       "      <td>0.000000</td>\n",
       "      <td>0.0688</td>\n",
       "      <td>0.861</td>\n",
       "      <td>132.032</td>\n",
       "      <td>0iGckQFyv6svOfAbAY9aWJ</td>\n",
       "      <td>220227</td>\n",
       "    </tr>\n",
       "    <tr>\n",
       "      <th>...</th>\n",
       "      <td>...</td>\n",
       "      <td>...</td>\n",
       "      <td>...</td>\n",
       "      <td>...</td>\n",
       "      <td>...</td>\n",
       "      <td>...</td>\n",
       "      <td>...</td>\n",
       "      <td>...</td>\n",
       "      <td>...</td>\n",
       "      <td>...</td>\n",
       "      <td>...</td>\n",
       "    </tr>\n",
       "    <tr>\n",
       "      <th>378</th>\n",
       "      <td>0.722</td>\n",
       "      <td>0.821</td>\n",
       "      <td>-3.856</td>\n",
       "      <td>0.1650</td>\n",
       "      <td>0.073000</td>\n",
       "      <td>0.000000</td>\n",
       "      <td>0.6310</td>\n",
       "      <td>0.721</td>\n",
       "      <td>127.944</td>\n",
       "      <td>2OsEJFTfzfjG4oC92cuP2c</td>\n",
       "      <td>210293</td>\n",
       "    </tr>\n",
       "    <tr>\n",
       "      <th>379</th>\n",
       "      <td>0.772</td>\n",
       "      <td>0.648</td>\n",
       "      <td>-6.222</td>\n",
       "      <td>0.0612</td>\n",
       "      <td>0.161000</td>\n",
       "      <td>0.000000</td>\n",
       "      <td>0.2690</td>\n",
       "      <td>0.741</td>\n",
       "      <td>129.966</td>\n",
       "      <td>0x4KuMldlnPMniT86Cmyep</td>\n",
       "      <td>225560</td>\n",
       "    </tr>\n",
       "    <tr>\n",
       "      <th>380</th>\n",
       "      <td>0.613</td>\n",
       "      <td>0.857</td>\n",
       "      <td>-5.492</td>\n",
       "      <td>0.0366</td>\n",
       "      <td>0.001200</td>\n",
       "      <td>0.000000</td>\n",
       "      <td>0.3580</td>\n",
       "      <td>0.664</td>\n",
       "      <td>124.987</td>\n",
       "      <td>56ZrTFkANjeAMiS14njg4E</td>\n",
       "      <td>182000</td>\n",
       "    </tr>\n",
       "    <tr>\n",
       "      <th>381</th>\n",
       "      <td>0.702</td>\n",
       "      <td>0.705</td>\n",
       "      <td>-6.666</td>\n",
       "      <td>0.0543</td>\n",
       "      <td>0.258000</td>\n",
       "      <td>0.000006</td>\n",
       "      <td>0.0879</td>\n",
       "      <td>0.743</td>\n",
       "      <td>154.911</td>\n",
       "      <td>5a7NdkF09AfD0H607eiOkX</td>\n",
       "      <td>213445</td>\n",
       "    </tr>\n",
       "    <tr>\n",
       "      <th>382</th>\n",
       "      <td>0.534</td>\n",
       "      <td>0.870</td>\n",
       "      <td>-3.078</td>\n",
       "      <td>0.0425</td>\n",
       "      <td>0.000334</td>\n",
       "      <td>0.000000</td>\n",
       "      <td>0.2410</td>\n",
       "      <td>0.462</td>\n",
       "      <td>126.019</td>\n",
       "      <td>0JiY190vktuhSGN6aqJdrt</td>\n",
       "      <td>215160</td>\n",
       "    </tr>\n",
       "  </tbody>\n",
       "</table>\n",
       "<p>383 rows × 11 columns</p>\n",
       "</div>"
      ],
      "text/plain": [
       "     danceability  energy  loudness  speechiness  acousticness  \\\n",
       "0           0.623   0.734    -5.950       0.1070      0.016200   \n",
       "1           0.722   0.851    -3.873       0.0639      0.031900   \n",
       "2           0.688   0.734    -4.569       0.0274      0.004620   \n",
       "3           0.688   0.702    -4.792       0.0499      0.021500   \n",
       "4           0.706   0.841    -3.956       0.0418      0.000079   \n",
       "..            ...     ...       ...          ...           ...   \n",
       "378         0.722   0.821    -3.856       0.1650      0.073000   \n",
       "379         0.772   0.648    -6.222       0.0612      0.161000   \n",
       "380         0.613   0.857    -5.492       0.0366      0.001200   \n",
       "381         0.702   0.705    -6.666       0.0543      0.258000   \n",
       "382         0.534   0.870    -3.078       0.0425      0.000334   \n",
       "\n",
       "     instrumentalness  liveness  valence    tempo                      id  \\\n",
       "0            0.000002    0.1450    0.372  107.853  76FZM38RC8XaAjJ77CVTNe   \n",
       "1            0.000000    0.1080    0.452  126.885  5yDL13y5giogKs2fSNf7sj   \n",
       "2            0.000000    0.0756    0.460  140.004  2hns6Dv29Yrg68AVTJiAyA   \n",
       "3            0.000000    0.1280    0.740   94.006  3jomjC6H7YQBRr2CHPtc4y   \n",
       "4            0.000000    0.0688    0.861  132.032  0iGckQFyv6svOfAbAY9aWJ   \n",
       "..                ...       ...      ...      ...                     ...   \n",
       "378          0.000000    0.6310    0.721  127.944  2OsEJFTfzfjG4oC92cuP2c   \n",
       "379          0.000000    0.2690    0.741  129.966  0x4KuMldlnPMniT86Cmyep   \n",
       "380          0.000000    0.3580    0.664  124.987  56ZrTFkANjeAMiS14njg4E   \n",
       "381          0.000006    0.0879    0.743  154.911  5a7NdkF09AfD0H607eiOkX   \n",
       "382          0.000000    0.2410    0.462  126.019  0JiY190vktuhSGN6aqJdrt   \n",
       "\n",
       "     duration_ms  \n",
       "0         244453  \n",
       "1         197936  \n",
       "2         208493  \n",
       "3         192191  \n",
       "4         220227  \n",
       "..           ...  \n",
       "378       210293  \n",
       "379       225560  \n",
       "380       182000  \n",
       "381       213445  \n",
       "382       215160  \n",
       "\n",
       "[383 rows x 11 columns]"
      ]
     },
     "execution_count": 30,
     "metadata": {},
     "output_type": "execute_result"
    }
   ],
   "source": [
    "# create a dataframe for audio features\n",
    "pop_feat_df = pd.DataFrame(list_of_audio_features)\n",
    "\n",
    "# Select some features only\n",
    "\n",
    "pop_df = pop_feat_df[[\"danceability\",\"energy\",\"loudness\",\"speechiness\",\"acousticness\",\n",
    "    \"instrumentalness\",\"liveness\",\"valence\",\"tempo\",\"id\",\"duration_ms\"]]\n",
    "\n",
    "pop_df"
   ]
  },
  {
   "cell_type": "code",
   "execution_count": null,
   "metadata": {},
   "outputs": [],
   "source": [
    "list_of_audio_features"
   ]
  },
  {
   "cell_type": "code",
   "execution_count": 46,
   "metadata": {},
   "outputs": [
    {
     "name": "stdout",
     "output_type": "stream",
     "text": [
      "'Ariana Grande'\n"
     ]
    }
   ],
   "source": [
    "# Check where to find artist names\n",
    "pprint.pprint(tracks[0]['track']['artists'][0]['name'])"
   ]
  },
  {
   "cell_type": "code",
   "execution_count": 54,
   "metadata": {},
   "outputs": [],
   "source": [
    "# define a function to get artists from tracks\n",
    "def get_tracks_artists(username, playlist_id):\n",
    "    tracks = get_playlist_tracks(username, playlist_id)\n",
    "    artists = []\n",
    "    for item in range(0, len(tracks)):\n",
    "        artists.append(tracks[item]['track']['artists'][0]['name'])\n",
    "    return artists"
   ]
  },
  {
   "cell_type": "code",
   "execution_count": 55,
   "metadata": {},
   "outputs": [],
   "source": [
    "#get artists from tracks and include it to the dataframe\n",
    "artists = get_playlist_tracks(username, playlist_id)"
   ]
  },
  {
   "cell_type": "code",
   "execution_count": 52,
   "metadata": {},
   "outputs": [
    {
     "name": "stderr",
     "output_type": "stream",
     "text": [
      "/var/folders/bw/0thxs7yn1z3blkjjv4d_d27w0000gn/T/ipykernel_88699/3739624309.py:1: SettingWithCopyWarning: \n",
      "A value is trying to be set on a copy of a slice from a DataFrame.\n",
      "Try using .loc[row_indexer,col_indexer] = value instead\n",
      "\n",
      "See the caveats in the documentation: https://pandas.pydata.org/pandas-docs/stable/user_guide/indexing.html#returning-a-view-versus-a-copy\n",
      "  pop_df['artist'] = artists\n"
     ]
    }
   ],
   "source": [
    "pop_df['artist'] = artists"
   ]
  },
  {
   "cell_type": "code",
   "execution_count": 63,
   "metadata": {
    "scrolled": true
   },
   "outputs": [
    {
     "name": "stdout",
     "output_type": "stream",
     "text": [
      "'Into You'\n"
     ]
    }
   ],
   "source": [
    "# check where to find track names\n",
    "pprint.pprint(tracks[0]['track']['name'])"
   ]
  },
  {
   "cell_type": "code",
   "execution_count": 66,
   "metadata": {},
   "outputs": [],
   "source": [
    "# define a function to get track names\n",
    "def get_tracks_names(username, playlist_id):\n",
    "    tracks = get_playlist_tracks(username, playlist_id)\n",
    "    track_names = []\n",
    "    for item in range(0, len(tracks)):\n",
    "        track_names.append(tracks[item]['track']['name'])\n",
    "    return track_names"
   ]
  },
  {
   "cell_type": "code",
   "execution_count": 67,
   "metadata": {},
   "outputs": [
    {
     "name": "stderr",
     "output_type": "stream",
     "text": [
      "/var/folders/bw/0thxs7yn1z3blkjjv4d_d27w0000gn/T/ipykernel_88699/2011156406.py:3: SettingWithCopyWarning: \n",
      "A value is trying to be set on a copy of a slice from a DataFrame.\n",
      "Try using .loc[row_indexer,col_indexer] = value instead\n",
      "\n",
      "See the caveats in the documentation: https://pandas.pydata.org/pandas-docs/stable/user_guide/indexing.html#returning-a-view-versus-a-copy\n",
      "  pop_df['name'] = track_names\n"
     ]
    }
   ],
   "source": [
    "#get get track names and include it to the dataframe\n",
    "track_names = get_tracks_names(username, playlist_id)\n",
    "pop_df['name'] = track_names"
   ]
  },
  {
   "cell_type": "code",
   "execution_count": 71,
   "metadata": {},
   "outputs": [
    {
     "name": "stdout",
     "output_type": "stream",
     "text": [
      "'Dangerous Woman'\n"
     ]
    }
   ],
   "source": [
    "# check where to get album names\n",
    "pprint.pprint(tracks[0]['track']['album']['name'])"
   ]
  },
  {
   "cell_type": "code",
   "execution_count": 72,
   "metadata": {},
   "outputs": [],
   "source": [
    "# define a function to get track names\n",
    "def get_tracks_albums(username, playlist_id):\n",
    "    tracks = get_playlist_tracks(username, playlist_id)\n",
    "    albums = []\n",
    "    for item in range(0, len(tracks)):\n",
    "        albums.append(tracks[item]['track']['album']['name'])\n",
    "    return albums"
   ]
  },
  {
   "cell_type": "code",
   "execution_count": 73,
   "metadata": {},
   "outputs": [
    {
     "name": "stderr",
     "output_type": "stream",
     "text": [
      "/var/folders/bw/0thxs7yn1z3blkjjv4d_d27w0000gn/T/ipykernel_88699/1640467039.py:3: SettingWithCopyWarning: \n",
      "A value is trying to be set on a copy of a slice from a DataFrame.\n",
      "Try using .loc[row_indexer,col_indexer] = value instead\n",
      "\n",
      "See the caveats in the documentation: https://pandas.pydata.org/pandas-docs/stable/user_guide/indexing.html#returning-a-view-versus-a-copy\n",
      "  pop_df.loc[:, 'album'] = albums\n"
     ]
    }
   ],
   "source": [
    "#get get track names and include it to the dataframe\n",
    "albums = get_tracks_albums(username, playlist_id)\n",
    "pop_df['album'] = albums"
   ]
  },
  {
   "cell_type": "code",
   "execution_count": 75,
   "metadata": {},
   "outputs": [
    {
     "name": "stdout",
     "output_type": "stream",
     "text": [
      "74\n"
     ]
    }
   ],
   "source": [
    "# check where to get the popularity of tracks\n",
    "pprint.pprint(tracks[0]['track']['popularity'])"
   ]
  },
  {
   "cell_type": "code",
   "execution_count": 76,
   "metadata": {},
   "outputs": [],
   "source": [
    "# define a function to get track names\n",
    "def get_tracks_popularity(username, playlist_id):\n",
    "    tracks = get_playlist_tracks(username, playlist_id)\n",
    "    popularity_li = []\n",
    "    for item in range(0, len(tracks)):\n",
    "        popularity_li.append(tracks[item]['track']['popularity'])\n",
    "    return popularity_li"
   ]
  },
  {
   "cell_type": "code",
   "execution_count": 77,
   "metadata": {},
   "outputs": [
    {
     "name": "stderr",
     "output_type": "stream",
     "text": [
      "/var/folders/bw/0thxs7yn1z3blkjjv4d_d27w0000gn/T/ipykernel_88699/2747322041.py:3: SettingWithCopyWarning: \n",
      "A value is trying to be set on a copy of a slice from a DataFrame.\n",
      "Try using .loc[row_indexer,col_indexer] = value instead\n",
      "\n",
      "See the caveats in the documentation: https://pandas.pydata.org/pandas-docs/stable/user_guide/indexing.html#returning-a-view-versus-a-copy\n",
      "  pop_df['popularity'] = popularity_li\n"
     ]
    }
   ],
   "source": [
    "#get get track popularity rate and include it to the dataframe\n",
    "popularity_li = get_tracks_popularity(username, playlist_id)\n",
    "pop_df['popularity'] = popularity_li"
   ]
  },
  {
   "cell_type": "code",
   "execution_count": 79,
   "metadata": {},
   "outputs": [
    {
     "name": "stdout",
     "output_type": "stream",
     "text": [
      "<class 'pandas.core.frame.DataFrame'>\n",
      "RangeIndex: 383 entries, 0 to 382\n",
      "Data columns (total 15 columns):\n",
      " #   Column            Non-Null Count  Dtype  \n",
      "---  ------            --------------  -----  \n",
      " 0   danceability      383 non-null    float64\n",
      " 1   energy            383 non-null    float64\n",
      " 2   loudness          383 non-null    float64\n",
      " 3   speechiness       383 non-null    float64\n",
      " 4   acousticness      383 non-null    float64\n",
      " 5   instrumentalness  383 non-null    float64\n",
      " 6   liveness          383 non-null    float64\n",
      " 7   valence           383 non-null    float64\n",
      " 8   tempo             383 non-null    float64\n",
      " 9   id                383 non-null    object \n",
      " 10  duration_ms       383 non-null    int64  \n",
      " 11  artist            383 non-null    object \n",
      " 12  name              383 non-null    object \n",
      " 13  album             383 non-null    object \n",
      " 14  popularity        383 non-null    int64  \n",
      "dtypes: float64(9), int64(2), object(4)\n",
      "memory usage: 45.0+ KB\n"
     ]
    }
   ],
   "source": [
    "pop_df.info()"
   ]
  },
  {
   "cell_type": "code",
   "execution_count": null,
   "metadata": {},
   "outputs": [],
   "source": []
  }
 ],
 "metadata": {
  "colab": {
   "authorship_tag": "ABX9TyPVWC1t3Am5oxfsHrz0cF36",
   "mount_file_id": "1f3HsS5F0GzS75tlHyrwhBGlTWbE0nG4o",
   "name": "Code_along_Spotify_structure.ipynb",
   "provenance": []
  },
  "kernelspec": {
   "display_name": "Python 3 (ipykernel)",
   "language": "python",
   "name": "python3"
  },
  "language_info": {
   "codemirror_mode": {
    "name": "ipython",
    "version": 3
   },
   "file_extension": ".py",
   "mimetype": "text/x-python",
   "name": "python",
   "nbconvert_exporter": "python",
   "pygments_lexer": "ipython3",
   "version": "3.9.12"
  },
  "toc": {
   "base_numbering": 1,
   "nav_menu": {},
   "number_sections": true,
   "sideBar": true,
   "skip_h1_title": false,
   "title_cell": "Table of Contents",
   "title_sidebar": "Contents",
   "toc_cell": false,
   "toc_position": {},
   "toc_section_display": true,
   "toc_window_display": false
  },
  "varInspector": {
   "cols": {
    "lenName": 16,
    "lenType": 16,
    "lenVar": 40
   },
   "kernels_config": {
    "python": {
     "delete_cmd_postfix": "",
     "delete_cmd_prefix": "del ",
     "library": "var_list.py",
     "varRefreshCmd": "print(var_dic_list())"
    },
    "r": {
     "delete_cmd_postfix": ") ",
     "delete_cmd_prefix": "rm(",
     "library": "var_list.r",
     "varRefreshCmd": "cat(var_dic_list()) "
    }
   },
   "types_to_exclude": [
    "module",
    "function",
    "builtin_function_or_method",
    "instance",
    "_Feature"
   ],
   "window_display": false
  }
 },
 "nbformat": 4,
 "nbformat_minor": 1
}
