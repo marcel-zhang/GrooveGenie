{
 "cells": [
  {
   "cell_type": "code",
   "execution_count": 1,
   "id": "18e288b2",
   "metadata": {},
   "outputs": [],
   "source": [
    "# 1. import libraries\n",
    "import requests # to download html code\n",
    "from bs4 import BeautifulSoup # to navigate through the html code\n",
    "import pandas as pd\n",
    "import numpy as np\n",
    "import re\n",
    "import random"
   ]
  },
  {
   "cell_type": "code",
   "execution_count": 2,
   "id": "c5c216aa",
   "metadata": {},
   "outputs": [
    {
     "data": {
      "text/html": [
       "<div>\n",
       "<style scoped>\n",
       "    .dataframe tbody tr th:only-of-type {\n",
       "        vertical-align: middle;\n",
       "    }\n",
       "\n",
       "    .dataframe tbody tr th {\n",
       "        vertical-align: top;\n",
       "    }\n",
       "\n",
       "    .dataframe thead th {\n",
       "        text-align: right;\n",
       "    }\n",
       "</style>\n",
       "<table border=\"1\" class=\"dataframe\">\n",
       "  <thead>\n",
       "    <tr style=\"text-align: right;\">\n",
       "      <th></th>\n",
       "      <th>song</th>\n",
       "      <th>artist</th>\n",
       "    </tr>\n",
       "  </thead>\n",
       "  <tbody>\n",
       "    <tr>\n",
       "      <th>0</th>\n",
       "      <td>Flowers</td>\n",
       "      <td>Miley Cyrus</td>\n",
       "    </tr>\n",
       "    <tr>\n",
       "      <th>1</th>\n",
       "      <td>Kill Bill</td>\n",
       "      <td>SZA</td>\n",
       "    </tr>\n",
       "    <tr>\n",
       "      <th>2</th>\n",
       "      <td>Last Night</td>\n",
       "      <td>Morgan Wallen</td>\n",
       "    </tr>\n",
       "    <tr>\n",
       "      <th>3</th>\n",
       "      <td>Unholy</td>\n",
       "      <td>Sam Smith &amp; Kim Petras</td>\n",
       "    </tr>\n",
       "    <tr>\n",
       "      <th>4</th>\n",
       "      <td>Creepin'</td>\n",
       "      <td>Metro Boomin, The Weeknd &amp; 21 Savage</td>\n",
       "    </tr>\n",
       "    <tr>\n",
       "      <th>...</th>\n",
       "      <td>...</td>\n",
       "      <td>...</td>\n",
       "    </tr>\n",
       "    <tr>\n",
       "      <th>95</th>\n",
       "      <td>Yandel 150</td>\n",
       "      <td>Yandel &amp; Feid</td>\n",
       "    </tr>\n",
       "    <tr>\n",
       "      <th>96</th>\n",
       "      <td>Heart To Heart</td>\n",
       "      <td>Mac DeMarco</td>\n",
       "    </tr>\n",
       "    <tr>\n",
       "      <th>97</th>\n",
       "      <td>Next Thing You Know</td>\n",
       "      <td>Jordan Davis</td>\n",
       "    </tr>\n",
       "    <tr>\n",
       "      <th>98</th>\n",
       "      <td>Never Gonna Not Dance Again</td>\n",
       "      <td>P!nk</td>\n",
       "    </tr>\n",
       "    <tr>\n",
       "      <th>99</th>\n",
       "      <td>Open Arms</td>\n",
       "      <td>SZA Featuring Travis Scott</td>\n",
       "    </tr>\n",
       "  </tbody>\n",
       "</table>\n",
       "<p>100 rows × 2 columns</p>\n",
       "</div>"
      ],
      "text/plain": [
       "                           song                                artist\n",
       "0                       Flowers                           Miley Cyrus\n",
       "1                     Kill Bill                                   SZA\n",
       "2                    Last Night                         Morgan Wallen\n",
       "3                        Unholy                Sam Smith & Kim Petras\n",
       "4                      Creepin'  Metro Boomin, The Weeknd & 21 Savage\n",
       "..                          ...                                   ...\n",
       "95                   Yandel 150                         Yandel & Feid\n",
       "96               Heart To Heart                           Mac DeMarco\n",
       "97          Next Thing You Know                          Jordan Davis\n",
       "98  Never Gonna Not Dance Again                                  P!nk\n",
       "99                    Open Arms            SZA Featuring Travis Scott\n",
       "\n",
       "[100 rows x 2 columns]"
      ]
     },
     "execution_count": 2,
     "metadata": {},
     "output_type": "execute_result"
    }
   ],
   "source": [
    "# Load the hot song list\n",
    "hot = pd.read_csv('data/billboards_100.csv')\n",
    "hot"
   ]
  },
  {
   "cell_type": "code",
   "execution_count": 3,
   "id": "f93ef547",
   "metadata": {},
   "outputs": [
    {
     "name": "stdout",
     "output_type": "stream",
     "text": [
      "Requirement already satisfied: fuzzywuzzy in /Users/marcelzhang/opt/anaconda3/lib/python3.9/site-packages (0.18.0)\n",
      "Note: you may need to restart the kernel to use updated packages.\n"
     ]
    }
   ],
   "source": [
    "pip install fuzzywuzzy"
   ]
  },
  {
   "cell_type": "code",
   "execution_count": 4,
   "id": "6807f76e",
   "metadata": {},
   "outputs": [
    {
     "name": "stderr",
     "output_type": "stream",
     "text": [
      "/Users/marcelzhang/opt/anaconda3/lib/python3.9/site-packages/fuzzywuzzy/fuzz.py:11: UserWarning: Using slow pure-python SequenceMatcher. Install python-Levenshtein to remove this warning\n",
      "  warnings.warn('Using slow pure-python SequenceMatcher. Install python-Levenshtein to remove this warning')\n"
     ]
    }
   ],
   "source": [
    "from fuzzywuzzy import fuzz\n",
    "from fuzzywuzzy import process"
   ]
  },
  {
   "cell_type": "code",
   "execution_count": 5,
   "id": "2a6f8e44",
   "metadata": {},
   "outputs": [
    {
     "data": {
      "text/plain": [
       "True"
      ]
     },
     "execution_count": 5,
     "metadata": {},
     "output_type": "execute_result"
    }
   ],
   "source": [
    "fuzz.token_set_ratio('Flowers', 'flowers', 'flower','Flower') > 50"
   ]
  },
  {
   "cell_type": "code",
   "execution_count": null,
   "id": "890b3f15",
   "metadata": {},
   "outputs": [],
   "source": []
  },
  {
   "cell_type": "code",
   "execution_count": null,
   "id": "e76ed5fe",
   "metadata": {},
   "outputs": [],
   "source": []
  },
  {
   "cell_type": "code",
   "execution_count": null,
   "id": "3124a966",
   "metadata": {},
   "outputs": [],
   "source": []
  },
  {
   "cell_type": "code",
   "execution_count": null,
   "id": "91e25a47",
   "metadata": {},
   "outputs": [],
   "source": []
  },
  {
   "cell_type": "code",
   "execution_count": 6,
   "id": "f14e4a67",
   "metadata": {},
   "outputs": [],
   "source": [
    "# Define a function for the input\n",
    "\n",
    "def setting():\n",
    "    while True:\n",
    "        num = input(\"Please enter a hot song: \")\n",
    "        try:\n",
    "            int(num)\n",
    "            if int(num) % 2 == 0:\n",
    "                print(\"The number of rounds must be odd: 1, 3, 5, ...\")\n",
    "            else:\n",
    "                global max_rounds\n",
    "                max_rounds = int(num)\n",
    "                print(\"Input number is: \", max_rounds)\n",
    "                break;\n",
    "        except ValueError:\n",
    "            print(\"This is not a integer. Please enter a integer\")\n",
    "    global rounds_to_win\n",
    "    rounds_to_win = int((max_rounds + 1)/2)"
   ]
  },
  {
   "cell_type": "code",
   "execution_count": 7,
   "id": "b669eb49",
   "metadata": {},
   "outputs": [],
   "source": [
    "# def GrooveGenie():\n",
    "#     while True:\n",
    "#         input_song = input('Please enter a hot song: ')\n",
    "#         if input_song.lower() in [s.lower() for s in hot.song]:\n",
    "#             check_singer = hot.loc[hot.song.str.lower() == input_song.lower(), 'artist'].iloc[0]\n",
    "#             comfirm = input(f'Do you mean {input_song} performed by {check_singer}? (y/n) ')\n",
    "#             if comfirm == 'y':\n",
    "#                 print(f'Got it! Playing {input_song}!')\n",
    "#                 break\n",
    "#             else:\n",
    "#                 rec_hot = random.sample(hot.song.tolist(), k=5)\n",
    "#                 print(f'Sorry, this is not a hot song. Would you like to try one of these hot songs? {rec_hot}')\n",
    "#         else:\n",
    "#             print(f'Sorry, this is not a hot song. Would you like to try one of these hot songs? {rec_hot}')"
   ]
  },
  {
   "cell_type": "code",
   "execution_count": 12,
   "id": "5eb2f29e",
   "metadata": {},
   "outputs": [],
   "source": [
    "def GrooveGenie():\n",
    "    while True:\n",
    "        input_song = input('Please enter a hot song: ')\n",
    "        if input_song.lower() in [s.lower() for s in hot.song]:\n",
    "            check_singer = hot.loc[hot.song.str.lower() == input_song.lower(), 'artist'].iloc[0]\n",
    "            comfirm = input(f'Do you mean {input_song} performed by {check_singer}? (y/n) ')\n",
    "            if comfirm == 'y':\n",
    "                print(f'Got it! Playing {input_song}!')\n",
    "                break\n",
    "            else:\n",
    "                rec_hot = random.sample(hot.song.tolist(), k=5)\n",
    "                print(f'Sorry, this is not a hot song. Would you like to try one of these hot songs? {rec_hot}')\n",
    "        else:\n",
    "            rec_hot = random.sample(hot.song.tolist(), k=5)\n",
    "            print(f'Sorry, this is not a hot song. Would you like to try one of these hot songs? {rec_hot}')"
   ]
  },
  {
   "cell_type": "code",
   "execution_count": null,
   "id": "852ba326",
   "metadata": {},
   "outputs": [
    {
     "name": "stdout",
     "output_type": "stream",
     "text": [
      "Please enter a hot song: flowers\n",
      "Do you mean flowers performed by Miley Cyrus? (y/n) n\n",
      "Sorry, this is not a hot song. Would you like to try one of these hot songs? ['Unstoppable', 'Bad Habit', 'About Damn Time', 'Forget Me', 'Fin de Semana']\n"
     ]
    }
   ],
   "source": [
    "GrooveGenie()"
   ]
  },
  {
   "cell_type": "code",
   "execution_count": null,
   "id": "6e5c7398",
   "metadata": {},
   "outputs": [],
   "source": []
  }
 ],
 "metadata": {
  "kernelspec": {
   "display_name": "Python 3 (ipykernel)",
   "language": "python",
   "name": "python3"
  },
  "language_info": {
   "codemirror_mode": {
    "name": "ipython",
    "version": 3
   },
   "file_extension": ".py",
   "mimetype": "text/x-python",
   "name": "python",
   "nbconvert_exporter": "python",
   "pygments_lexer": "ipython3",
   "version": "3.9.12"
  }
 },
 "nbformat": 4,
 "nbformat_minor": 5
}
