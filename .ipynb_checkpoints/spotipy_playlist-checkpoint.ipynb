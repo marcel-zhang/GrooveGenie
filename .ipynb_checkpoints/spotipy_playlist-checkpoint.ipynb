{
 "cells": [
  {
   "cell_type": "markdown",
   "metadata": {
    "id": "-M3QFIFrKdPt"
   },
   "source": [
    "# Installing Spotipy"
   ]
  },
  {
   "cell_type": "markdown",
   "metadata": {
    "id": "o2ooSokHKfsd"
   },
   "source": [
    "In order to use the Spotify API (SpotiPy) we will have to create an account in Spotify and follow these steps. Once we have done it we will start initializing the API and look at the search method for which we can introduce a \"query\" q, in this example we will try it with Lady Gaga:"
   ]
  },
  {
   "cell_type": "code",
   "execution_count": 1,
   "metadata": {
    "colab": {
     "base_uri": "https://localhost:8080/"
    },
    "executionInfo": {
     "elapsed": 5245,
     "status": "ok",
     "timestamp": 1623745902730,
     "user": {
      "displayName": "Ignacio Soteras",
      "photoUrl": "",
      "userId": "02050793736257155229"
     },
     "user_tz": -120
    },
    "id": "tis_6tTpKY1Z",
    "outputId": "adfb4763-04d9-4b55-b0d8-c5e317263072"
   },
   "outputs": [],
   "source": [
    "##!conda install -c conda-forge spotipy"
   ]
  },
  {
   "cell_type": "markdown",
   "metadata": {
    "id": "fnhh4ayEOKz4"
   },
   "source": [
    "## Loading credentials from another config file"
   ]
  },
  {
   "cell_type": "code",
   "execution_count": 2,
   "metadata": {
    "ExecuteTime": {
     "end_time": "2022-11-23T08:53:19.773334Z",
     "start_time": "2022-11-23T08:53:19.511876Z"
    },
    "colab": {
     "base_uri": "https://localhost:8080/"
    },
    "executionInfo": {
     "elapsed": 23559,
     "status": "ok",
     "timestamp": 1623745938174,
     "user": {
      "displayName": "Ignacio Soteras",
      "photoUrl": "",
      "userId": "02050793736257155229"
     },
     "user_tz": -120
    },
    "id": "5j1kqPOoN_I5",
    "outputId": "23c4b5dd-b94b-425d-e2b9-e5647cb055df"
   },
   "outputs": [],
   "source": [
    "import config"
   ]
  },
  {
   "cell_type": "markdown",
   "metadata": {
    "id": "0fpGWmsCOSx0"
   },
   "source": [
    "## Starting with Spotify API"
   ]
  },
  {
   "cell_type": "code",
   "execution_count": 3,
   "metadata": {},
   "outputs": [],
   "source": [
    "import spotipy\n",
    "import json\n",
    "from spotipy.oauth2 import SpotifyClientCredentials\n",
    "import pandas as pd"
   ]
  },
  {
   "cell_type": "code",
   "execution_count": 4,
   "metadata": {},
   "outputs": [],
   "source": [
    "#Initialize SpotiPy with user credentias\n",
    "sp = spotipy.Spotify(auth_manager=SpotifyClientCredentials(client_id= config.client_id,\n",
    "                                                           client_secret= config.client_secret))"
   ]
  },
  {
   "cell_type": "code",
   "execution_count": 5,
   "metadata": {},
   "outputs": [],
   "source": [
    "# The playlists involved are all created by Spotify\n",
    "username = 'Spotify'"
   ]
  },
  {
   "cell_type": "code",
   "execution_count": 6,
   "metadata": {},
   "outputs": [],
   "source": [
    "# get playlists\n",
    "results = sp.user_playlists(username, limit = 30)"
   ]
  },
  {
   "cell_type": "code",
   "execution_count": 7,
   "metadata": {},
   "outputs": [],
   "source": [
    "playlist_ids = []\n",
    "for playlist in results['items']:\n",
    "    playlist_ids.append(playlist['id'])"
   ]
  },
  {
   "cell_type": "code",
   "execution_count": 8,
   "metadata": {},
   "outputs": [
    {
     "data": {
      "text/plain": [
       "['37i9dQZF1DXcBWIGoYBM5M',\n",
       " '37i9dQZF1DX0XUsuxWHRQd',\n",
       " '37i9dQZF1DX1lVhptIYRda',\n",
       " '37i9dQZF1DX10zKzsJ2jva',\n",
       " '37i9dQZF1DX4JAvHpjipBk',\n",
       " '37i9dQZF1DX4sWSpwq3LiO',\n",
       " '37i9dQZF1DX4SBhb3fqCJd',\n",
       " '37i9dQZF1DWXRqgorJj26U',\n",
       " '37i9dQZF1DX4dyzvuaRJ0n',\n",
       " '37i9dQZF1DXcF6B6QPhFDv',\n",
       " '37i9dQZF1DWXJfnUiYjUKT',\n",
       " '37i9dQZF1DXcRXFNfZr7Tp',\n",
       " '37i9dQZF1DX4o1oenSJRJd',\n",
       " '37i9dQZF1DXbTxeAdrVG2l',\n",
       " '37i9dQZF1DX4UtSsGT1Sbe',\n",
       " '37i9dQZF1DWTJ7xPn4vNaz',\n",
       " '37i9dQZF1DXaKIA8E7WcJj',\n",
       " '37i9dQZF1DWSV3Tk4GO2fq',\n",
       " '37i9dQZF1DWTwnEm1IYyoj',\n",
       " '37i9dQZF1DX2A29LI7xHn1',\n",
       " '37i9dQZF1DX2RxBh64BHjQ',\n",
       " '37i9dQZF1DWVA1Gq4XHa6U',\n",
       " '37i9dQZF1DWY4xHQp97fN6',\n",
       " '37i9dQZF1DWX3387IZmjNa',\n",
       " '37i9dQZF1DWYkaDif7Ztbp',\n",
       " '37i9dQZF1DX5hR0J49CmXC',\n",
       " '37i9dQZF1DXan38dNVDdl4',\n",
       " '37i9dQZF1DWSvKsRPPnv5o',\n",
       " '37i9dQZF1DWUVpAXiEPK8P',\n",
       " '37i9dQZF1DX0Tkc6ltcBfU']"
      ]
     },
     "execution_count": 8,
     "metadata": {},
     "output_type": "execute_result"
    }
   ],
   "source": [
    "playlist_ids"
   ]
  },
  {
   "cell_type": "code",
   "execution_count": 9,
   "metadata": {},
   "outputs": [],
   "source": [
    "# playlist_genres = ['Pop', 'Hip-Hop', 'Rock', 'Dance', 'Reggaeton', ]\n",
    "# playlist_names = ['Songs to Sing in the Car', 'RapCaviar', 'Rock Classics', 'Motivation Mix', 'Viva Latino', ]\n",
    "# playlist_ids = ['37i9dQZF1DWWMOmoXKqHTD', '37i9dQZF1DX0XUsuxWHRQd', '37i9dQZF1DWXRqgorJj26U', '37i9dQZF1DXdxcBWuJkbcy', '37i9dQZF1DX10zKzsJ2jva']"
   ]
  },
  {
   "cell_type": "code",
   "execution_count": 10,
   "metadata": {},
   "outputs": [],
   "source": [
    "# # get json of a specific playlist\n",
    "# username = 'maka_97'\n",
    "# playlist_id = '6mtYuOxzl58vSGnEDtZ9uB' # get from url of the playplist ('https://open.spotify.com/playlist/6mtYuOxzl58vSGnEDtZ9uB')\n",
    "\n",
    "# playlist = sp.user_playlist_tracks(username, playlist_id, market=\"GB\")"
   ]
  },
  {
   "cell_type": "code",
   "execution_count": 11,
   "metadata": {},
   "outputs": [],
   "source": [
    "# define a function to extract tracks of a playlist\n",
    "def get_playlist_tracks(username, playlist_id):\n",
    "    results = sp.user_playlist_tracks(username,playlist_id,market=\"GB\")\n",
    "    tracks = results['items']\n",
    "    while results['next']:\n",
    "        results = sp.next(results)\n",
    "        tracks.extend(results['items'])\n",
    "    return tracks"
   ]
  },
  {
   "cell_type": "code",
   "execution_count": 12,
   "metadata": {},
   "outputs": [],
   "source": [
    "# extract tracks from the playlists"
   ]
  },
  {
   "cell_type": "code",
   "execution_count": 13,
   "metadata": {},
   "outputs": [],
   "source": [
    "# # extract tracks from a specific playlist\n",
    "\n",
    "# list_of_audio_features = []\n",
    "\n",
    "# for playlist_id in playlist_ids:\n",
    "#     tracks = get_playlist_tracks('Spotify', playlist_id)\n",
    "#     for item in range(0, len(tracks)):\n",
    "#         audio_features = sp.audio_features(tracks[item][\"track\"][\"id\"])\n",
    "#         if audio_features is not None and len(audio_features) > 0:\n",
    "#             list_of_audio_features.append(audio_features[0])"
   ]
  },
  {
   "cell_type": "code",
   "execution_count": null,
   "metadata": {},
   "outputs": [],
   "source": [
    "# extract tracks from a specific playlist\n",
    "\n",
    "list_of_audio_features = []\n",
    "\n",
    "for playlist_id in playlist_ids:\n",
    "    tracks = get_playlist_tracks('Spotify', playlist_id)\n",
    "    for item in range(0, len(tracks)):\n",
    "        if tracks[item] is not None and tracks[item][\"track\"] is not None:\n",
    "            audio_features = sp.audio_features(tracks[item][\"track\"][\"id\"])\n",
    "            if audio_features is not None and len(audio_features) > 0:\n",
    "                list_of_audio_features.append(audio_features[0])"
   ]
  },
  {
   "cell_type": "code",
   "execution_count": null,
   "metadata": {},
   "outputs": [],
   "source": [
    "# sp.audio_features(tracks[item][\"track\"][\"id\"])[0]"
   ]
  },
  {
   "cell_type": "code",
   "execution_count": null,
   "metadata": {},
   "outputs": [],
   "source": [
    "# create a dataframe for audio features\n",
    "playlists_raw_df = pd.DataFrame(list_of_audio_features)\n",
    "\n",
    "# Select some features only\n",
    "\n",
    "playlists_df = playlists_raw_df[[\"danceability\",\"energy\",\"loudness\",\"speechiness\",\"acousticness\",\n",
    "    \"instrumentalness\",\"liveness\",\"valence\",\"tempo\",\"id\",\"duration_ms\"]]\n",
    "\n",
    "playlists_df"
   ]
  },
  {
   "cell_type": "code",
   "execution_count": null,
   "metadata": {},
   "outputs": [],
   "source": [
    "import pprint\n",
    "# Check where to find artist names\n",
    "pprint.pprint(tracks[0]['track']['artists'][0]['name'])"
   ]
  },
  {
   "cell_type": "code",
   "execution_count": null,
   "metadata": {},
   "outputs": [],
   "source": [
    "# # define a function to get artists from tracks\n",
    "# def get_tracks_artists(username, playlist_id):\n",
    "#     tracks = get_playlist_tracks(username, playlist_id)\n",
    "#     artists = []\n",
    "#     for item in range(0, len(tracks)):\n",
    "#         artists.append(tracks[item]['track']['artists'][0]['name'])\n",
    "#     return artists"
   ]
  },
  {
   "cell_type": "code",
   "execution_count": null,
   "metadata": {},
   "outputs": [],
   "source": [
    "def get_tracks_artists(username, playlist_id):\n",
    "    tracks = get_playlist_tracks(username, playlist_id)\n",
    "    if tracks is not None:\n",
    "        artists = []\n",
    "        for item in range(0, len(tracks)):\n",
    "            artists.append(tracks[item]['track']['artists'][0]['name'])\n",
    "        return artists\n",
    "    else:\n",
    "        return []"
   ]
  },
  {
   "cell_type": "code",
   "execution_count": null,
   "metadata": {},
   "outputs": [],
   "source": [
    "# Get the artists of tracks from all playlists\n",
    "artist_list = []\n",
    "\n",
    "for playlist_id in playlist_ids:\n",
    "    artist_list.extend(get_tracks_artists('Spotify', playlist_id))"
   ]
  },
  {
   "cell_type": "code",
   "execution_count": null,
   "metadata": {},
   "outputs": [],
   "source": [
    "len(artist_list)"
   ]
  },
  {
   "cell_type": "code",
   "execution_count": null,
   "metadata": {},
   "outputs": [],
   "source": [
    "playlists_df['artist'] = artist_list"
   ]
  },
  {
   "cell_type": "code",
   "execution_count": null,
   "metadata": {
    "scrolled": true
   },
   "outputs": [],
   "source": [
    "# check where to find track names\n",
    "pprint.pprint(tracks[0]['track']['name'])"
   ]
  },
  {
   "cell_type": "code",
   "execution_count": null,
   "metadata": {},
   "outputs": [],
   "source": [
    "# define a function to get track names\n",
    "def get_tracks_names(username, playlist_id):\n",
    "    tracks = get_playlist_tracks(username, playlist_id)\n",
    "    if tracks is not None:\n",
    "        track_names = []\n",
    "        for item in range(0, len(tracks)):\n",
    "            track_names.append(tracks[item]['track']['name'])\n",
    "        return track_names\n",
    "    else:\n",
    "        return []"
   ]
  },
  {
   "cell_type": "code",
   "execution_count": null,
   "metadata": {},
   "outputs": [],
   "source": [
    "# Get the names of tracks from all playlists\n",
    "name_list = []\n",
    "\n",
    "for playlist_id in playlist_ids:\n",
    "    name_list.extend(get_tracks_names('Spotify', playlist_id))"
   ]
  },
  {
   "cell_type": "code",
   "execution_count": null,
   "metadata": {
    "scrolled": false
   },
   "outputs": [],
   "source": [
    "#get get track names and include it to the dataframe\n",
    "playlists_df['name'] = name_list"
   ]
  },
  {
   "cell_type": "code",
   "execution_count": null,
   "metadata": {},
   "outputs": [],
   "source": [
    "# check where to get album names\n",
    "pprint.pprint(tracks[0]['track']['album']['name'])"
   ]
  },
  {
   "cell_type": "code",
   "execution_count": null,
   "metadata": {},
   "outputs": [],
   "source": [
    "# define a function to get album names\n",
    "def get_tracks_albums(username, playlist_id):\n",
    "    tracks = get_playlist_tracks(username, playlist_id)\n",
    "    if tracks is not None:\n",
    "        albums = []\n",
    "        for item in range(0, len(tracks)):\n",
    "            albums.append(tracks[item]['track']['album']['name'])\n",
    "        return albums\n",
    "    else:\n",
    "        return []"
   ]
  },
  {
   "cell_type": "code",
   "execution_count": null,
   "metadata": {},
   "outputs": [],
   "source": [
    "# Get albums from all playlists\n",
    "album_list = []\n",
    "\n",
    "for playlist_id in playlist_ids:\n",
    "    album_list.extend(get_tracks_albums('Spotify', playlist_id))"
   ]
  },
  {
   "cell_type": "code",
   "execution_count": null,
   "metadata": {},
   "outputs": [],
   "source": [
    "#get get track names and include it to the dataframe\n",
    "playlists_df['album'] = album_list"
   ]
  },
  {
   "cell_type": "code",
   "execution_count": null,
   "metadata": {},
   "outputs": [],
   "source": [
    "# check where to get the popularity of tracks\n",
    "pprint.pprint(tracks[0]['track']['popularity'])"
   ]
  },
  {
   "cell_type": "code",
   "execution_count": null,
   "metadata": {},
   "outputs": [],
   "source": [
    "# define a function to get album names\n",
    "def get_tracks_popularity(username, playlist_id):\n",
    "    tracks = get_playlist_tracks(username, playlist_id)\n",
    "    if tracks is not None:\n",
    "        tracks_popularity = []\n",
    "        for item in range(0, len(tracks)):\n",
    "            tracks_popularity.append(tracks[item]['track']['popularity'])\n",
    "        return tracks_popularity\n",
    "    else:\n",
    "        return []"
   ]
  },
  {
   "cell_type": "code",
   "execution_count": null,
   "metadata": {},
   "outputs": [],
   "source": [
    "# define a function to get track names\n",
    "def get_tracks_popularity(username, playlist_id):\n",
    "    tracks = get_playlist_tracks(username, playlist_id)\n",
    "    popularity_li = []\n",
    "    for item in range(0, len(tracks)):\n",
    "        popularity_li.append(tracks[item]['track']['popularity'])\n",
    "    return popularity_li"
   ]
  },
  {
   "cell_type": "code",
   "execution_count": null,
   "metadata": {},
   "outputs": [],
   "source": [
    "# Get popularity scores from all playlists\n",
    "popularity_list = []\n",
    "\n",
    "for playlist_id in playlist_ids:\n",
    "    popularity_list.extend(get_tracks_popularity('Spotify', playlist_id))"
   ]
  },
  {
   "cell_type": "code",
   "execution_count": null,
   "metadata": {},
   "outputs": [],
   "source": [
    "#include popularity scores to the dataframe\n",
    "playlists_df['popularity'] = popularity_list"
   ]
  },
  {
   "cell_type": "code",
   "execution_count": null,
   "metadata": {},
   "outputs": [],
   "source": [
    "playlists_df"
   ]
  },
  {
   "cell_type": "code",
   "execution_count": null,
   "metadata": {},
   "outputs": [],
   "source": [
    "# check where to get the release date of tracks\n",
    "pprint.pprint(tracks[0]['track']['album']['release_date'])"
   ]
  },
  {
   "cell_type": "code",
   "execution_count": null,
   "metadata": {},
   "outputs": [],
   "source": [
    "# define a function to get release dates\n",
    "def get_tracks_dates(username, playlist_id):\n",
    "    tracks = get_playlist_tracks(username, playlist_id)\n",
    "    if tracks is not None:\n",
    "        dates = []\n",
    "        for item in range(0, len(tracks)):\n",
    "            dates.append(tracks[item]['track']['album']['release_date'])\n",
    "        return dates\n",
    "    else:\n",
    "        return []"
   ]
  },
  {
   "cell_type": "code",
   "execution_count": null,
   "metadata": {},
   "outputs": [],
   "source": [
    "# Get release dates from all playlists\n",
    "dates_list = []\n",
    "\n",
    "for playlist_id in playlist_ids:\n",
    "    dates_list.extend(get_tracks_dates('Spotify', playlist_id))"
   ]
  },
  {
   "cell_type": "code",
   "execution_count": null,
   "metadata": {},
   "outputs": [],
   "source": [
    "#include popularity scores to the dataframe\n",
    "playlists_df['release_date'] = dates_list"
   ]
  },
  {
   "cell_type": "code",
   "execution_count": null,
   "metadata": {},
   "outputs": [],
   "source": [
    "playlists_df"
   ]
  },
  {
   "cell_type": "code",
   "execution_count": null,
   "metadata": {},
   "outputs": [],
   "source": [
    "playlists_df.info()"
   ]
  },
  {
   "cell_type": "code",
   "execution_count": null,
   "metadata": {},
   "outputs": [],
   "source": [
    "# convert 'release_date' to a datetime column\n",
    "playlists_df['release_date'] = pd.to_datetime(playlists_df['release_date'], format='%Y-%m-%d')\n",
    "\n",
    "# convert datetime column to a numerical format\n",
    "playlists_df['release_date_ordinal'] = playlists_df['release_date'].apply(lambda x: x.toordinal())\n",
    "\n",
    "# drop original datetime column\n",
    "playlists_df = playlists_df.drop(columns=['release_date'])"
   ]
  },
  {
   "cell_type": "code",
   "execution_count": null,
   "metadata": {},
   "outputs": [],
   "source": [
    "playlists_df.info()"
   ]
  },
  {
   "cell_type": "code",
   "execution_count": null,
   "metadata": {},
   "outputs": [],
   "source": [
    "# Resort the columns\n",
    "\n",
    "new_order = ['id', 'name', 'artist', 'album', 'release_date_ordinal', 'popularity', 'duration_ms',\n",
    "             'danceability', 'energy', 'loudness', 'speechiness', 'acousticness', 'instrumentalness', \n",
    "             'liveness', 'valence', 'tempo']\n",
    "\n",
    "playlists_df = playlists_df.reindex(columns=new_order)\n"
   ]
  },
  {
   "cell_type": "code",
   "execution_count": null,
   "metadata": {},
   "outputs": [],
   "source": [
    "# Remove duplicates\n",
    "\n",
    "playlists_df.drop_duplicates(inplace=True)"
   ]
  },
  {
   "cell_type": "code",
   "execution_count": null,
   "metadata": {},
   "outputs": [],
   "source": [
    "playlists_df.info()"
   ]
  }
 ],
 "metadata": {
  "colab": {
   "authorship_tag": "ABX9TyPVWC1t3Am5oxfsHrz0cF36",
   "mount_file_id": "1f3HsS5F0GzS75tlHyrwhBGlTWbE0nG4o",
   "name": "Code_along_Spotify_structure.ipynb",
   "provenance": []
  },
  "kernelspec": {
   "display_name": "Python 3 (ipykernel)",
   "language": "python",
   "name": "python3"
  },
  "language_info": {
   "codemirror_mode": {
    "name": "ipython",
    "version": 3
   },
   "file_extension": ".py",
   "mimetype": "text/x-python",
   "name": "python",
   "nbconvert_exporter": "python",
   "pygments_lexer": "ipython3",
   "version": "3.9.12"
  },
  "toc": {
   "base_numbering": 1,
   "nav_menu": {},
   "number_sections": true,
   "sideBar": true,
   "skip_h1_title": false,
   "title_cell": "Table of Contents",
   "title_sidebar": "Contents",
   "toc_cell": false,
   "toc_position": {},
   "toc_section_display": true,
   "toc_window_display": false
  },
  "varInspector": {
   "cols": {
    "lenName": 16,
    "lenType": 16,
    "lenVar": 40
   },
   "kernels_config": {
    "python": {
     "delete_cmd_postfix": "",
     "delete_cmd_prefix": "del ",
     "library": "var_list.py",
     "varRefreshCmd": "print(var_dic_list())"
    },
    "r": {
     "delete_cmd_postfix": ") ",
     "delete_cmd_prefix": "rm(",
     "library": "var_list.r",
     "varRefreshCmd": "cat(var_dic_list()) "
    }
   },
   "types_to_exclude": [
    "module",
    "function",
    "builtin_function_or_method",
    "instance",
    "_Feature"
   ],
   "window_display": false
  }
 },
 "nbformat": 4,
 "nbformat_minor": 1
}
